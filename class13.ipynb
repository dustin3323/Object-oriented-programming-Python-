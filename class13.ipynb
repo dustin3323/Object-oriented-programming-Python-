{
 "cells": [
  {
   "cell_type": "markdown",
   "metadata": {},
   "source": [
    "# 文件操作\n",
    "\n",
    "- 常见文件类型\n",
    "\n",
    "  - xml\n",
    "  - json\n",
    "  - csv\n",
    "  - markdown"
   ]
  },
  {
   "cell_type": "code",
   "execution_count": 6,
   "metadata": {},
   "outputs": [],
   "source": [
    "f = open('heloo.py', encoding='utf-8')"
   ]
  },
  {
   "cell_type": "code",
   "execution_count": 7,
   "metadata": {},
   "outputs": [
    {
     "data": {
      "text/plain": [
       "'def hello():\\n'"
      ]
     },
     "execution_count": 7,
     "metadata": {},
     "output_type": "execute_result"
    }
   ],
   "source": [
    "f.readline()"
   ]
  },
  {
   "cell_type": "code",
   "execution_count": 8,
   "metadata": {},
   "outputs": [
    {
     "data": {
      "text/plain": [
       "[\"    print('hello')\\n\",\n",
       " '\\n',\n",
       " '\\n',\n",
       " '# 测试代码，在notebook中import不运行，但在console中运行\\n',\n",
       " \"if __name__ == '__main__':\\n\",\n",
       " '    hello()\\n']"
      ]
     },
     "execution_count": 8,
     "metadata": {},
     "output_type": "execute_result"
    }
   ],
   "source": [
    "f.readlines()"
   ]
  },
  {
   "cell_type": "code",
   "execution_count": 13,
   "metadata": {},
   "outputs": [
    {
     "name": "stdout",
     "output_type": "stream",
     "text": [
      "[]\n"
     ]
    }
   ],
   "source": [
    "lines = f.readlines()\n",
    "print(lines)"
   ]
  },
  {
   "cell_type": "code",
   "execution_count": 11,
   "metadata": {},
   "outputs": [],
   "source": [
    "for line in lines:\n",
    "    print(line, end = ' ')"
   ]
  },
  {
   "cell_type": "code",
   "execution_count": 14,
   "metadata": {},
   "outputs": [],
   "source": [
    "f.close()"
   ]
  },
  {
   "cell_type": "code",
   "execution_count": 17,
   "metadata": {},
   "outputs": [],
   "source": [
    "f=open('./test.txt', 'w')"
   ]
  },
  {
   "cell_type": "code",
   "execution_count": 18,
   "metadata": {},
   "outputs": [
    {
     "data": {
      "text/plain": [
       "5"
      ]
     },
     "execution_count": 18,
     "metadata": {},
     "output_type": "execute_result"
    }
   ],
   "source": [
    "f.write('hello')\n",
    "# handle 句柄"
   ]
  },
  {
   "cell_type": "code",
   "execution_count": 19,
   "metadata": {},
   "outputs": [],
   "source": [
    "f.close()"
   ]
  },
  {
   "cell_type": "markdown",
   "metadata": {},
   "source": [
    "命令行输入\n",
    "\n",
    "start romeo.txt\n",
    "\n",
    "type romeo.txt | python word_count.py"
   ]
  },
  {
   "cell_type": "code",
   "execution_count": 20,
   "metadata": {},
   "outputs": [
    {
     "data": {
      "text/plain": [
       "'hello'"
      ]
     },
     "execution_count": 20,
     "metadata": {},
     "output_type": "execute_result"
    }
   ],
   "source": [
    "f=open('test.txt')\n",
    "f.read()"
   ]
  },
  {
   "cell_type": "code",
   "execution_count": 21,
   "metadata": {},
   "outputs": [
    {
     "data": {
      "text/plain": [
       "5"
      ]
     },
     "execution_count": 21,
     "metadata": {},
     "output_type": "execute_result"
    }
   ],
   "source": [
    "# 光标位置\n",
    "f.tell()"
   ]
  },
  {
   "cell_type": "code",
   "execution_count": 23,
   "metadata": {},
   "outputs": [
    {
     "data": {
      "text/plain": [
       "2"
      ]
     },
     "execution_count": 23,
     "metadata": {},
     "output_type": "execute_result"
    }
   ],
   "source": [
    "f.seek(2)"
   ]
  },
  {
   "cell_type": "code",
   "execution_count": 24,
   "metadata": {},
   "outputs": [
    {
     "data": {
      "text/plain": [
       "'llo'"
      ]
     },
     "execution_count": 24,
     "metadata": {},
     "output_type": "execute_result"
    }
   ],
   "source": [
    "f.read(3)"
   ]
  },
  {
   "cell_type": "code",
   "execution_count": 25,
   "metadata": {},
   "outputs": [],
   "source": [
    "f.close()"
   ]
  },
  {
   "cell_type": "code",
   "execution_count": 27,
   "metadata": {},
   "outputs": [],
   "source": [
    "lines = ['hello\\n', 'world\\n', 'test\\n']\n",
    "f = open('./test.txt', 'w')\n",
    "f.writelines(lines)\n",
    "f.close()"
   ]
  },
  {
   "cell_type": "code",
   "execution_count": 30,
   "metadata": {},
   "outputs": [
    {
     "name": "stdout",
     "output_type": "stream",
     "text": [
      "hello\n",
      "world\n",
      "test\n",
      "\n"
     ]
    }
   ],
   "source": [
    "with open('./test.txt') as f:\n",
    "    print(f.read())"
   ]
  },
  {
   "cell_type": "code",
   "execution_count": 32,
   "metadata": {},
   "outputs": [
    {
     "name": "stdout",
     "output_type": "stream",
     "text": [
      "processing: hello\n",
      "\n",
      "processing: world\n",
      "\n",
      "processing: test\n",
      "\n"
     ]
    }
   ],
   "source": [
    "def process_line(line):\n",
    "    print('processing: {}'.format(line))\n",
    "    \n",
    "with open('test.txt') as f:\n",
    "    for line in f.readlines():\n",
    "        process_line(line)"
   ]
  },
  {
   "cell_type": "code",
   "execution_count": 36,
   "metadata": {},
   "outputs": [
    {
     "name": "stdout",
     "output_type": "stream",
     "text": [
      "processing: hello\n",
      "\n",
      "processing: world\n",
      "\n",
      "processing: test\n",
      "\n"
     ]
    }
   ],
   "source": [
    "# 占用更少内存\n",
    "def process_line(line):\n",
    "    print('processing: {}'.format(line))\n",
    "    \n",
    "with open('test.txt', encoding = 'utf-8') as f:\n",
    "    while True:\n",
    "        line = f.readline()  # read(1)  - char by char\n",
    "        if not line:\n",
    "            break\n",
    "        process_line(line)"
   ]
  },
  {
   "cell_type": "code",
   "execution_count": 43,
   "metadata": {},
   "outputs": [],
   "source": [
    "from tkinter import *\n",
    "from tkinter import ttk\n",
    "from tkinter.scrolledtext import ScrolledText\n",
    "\n",
    "class SimpleEditor(Tk):\n",
    "    def __init__(self, *args, **kwargs):\n",
    "        super().__init__(*args, **kwargs)  # argument, keyword argument\n",
    "        self.setup_ui()\n",
    "        \n",
    "    def setup_ui(self):\n",
    "        self.title('Simple editor')\n",
    "        \n",
    "        self.contents = ScrolledText()\n",
    "        self.contents.pack(side=BOTTOM, expand=True, fill=BOTH)\n",
    "        \n",
    "        self.file_name = StringVar()\n",
    "        self.filename = ttk.Entry(textvariable=self.file_name)  # 输入控件\n",
    "        self.filename.pack(side=LEFT, expand=True, fill=X)\n",
    "        self.file_name.set('test.txt')\n",
    "        \n",
    "        ttk.Button(text='Load', command=self.load).pack(side=LEFT)\n",
    "        ttk.Button(text='Save', command=self.save).pack(side=LEFT)\n",
    "        self.add_line_number = BooleanVar()\n",
    "        ttk.Checkbutton(text='Line number', command=self.add_line_number, \n",
    "                       variable=self.add_line_number).pack(side=LEFT)\n",
    "        \n",
    "    def load(self):\n",
    "        with open(self.file_name.get(), encoding='utf-8') as file:\n",
    "            self.contents.delete('1.0', END)\n",
    "            if self.add_line_number.get():\n",
    "                line_number = 1\n",
    "                for line in file:\n",
    "                    self.contents.insert(INSERT, '{}\\t'.format(line_number) + line)\n",
    "                    line_number += 1\n",
    "            else:\n",
    "                self.contents.insert(INSERT, file.read())\n",
    "\n",
    "    def save(self):\n",
    "        with open(self.file_name.get(), 'w', encoding='utf-8') as file:\n",
    "            file.write(self.contents.get('1.0', END))\n",
    "        \n",
    "    def add_line_number(self, *args):\n",
    "#         lines = self.contents.get('1.0', END)\n",
    "#         self.contents.delete('1.0', END)\n",
    "        self.load()\n",
    "                \n",
    "    \n",
    "    \n",
    "SimpleEditor().mainloop()"
   ]
  },
  {
   "cell_type": "markdown",
   "metadata": {},
   "source": [
    "对象的持久化"
   ]
  },
  {
   "cell_type": "code",
   "execution_count": 46,
   "metadata": {},
   "outputs": [],
   "source": [
    "import shelve\n",
    "\n",
    "s = shelve.open('./my_shelve')\n",
    "s['entry1'] = [1, 2, 3]\n",
    "s['entry2'] = 'hello'"
   ]
  },
  {
   "cell_type": "code",
   "execution_count": 1,
   "metadata": {},
   "outputs": [
    {
     "ename": "NameError",
     "evalue": "name 's' is not defined",
     "output_type": "error",
     "traceback": [
      "\u001b[1;31m---------------------------------------------------------------------------\u001b[0m",
      "\u001b[1;31mNameError\u001b[0m                                 Traceback (most recent call last)",
      "\u001b[1;32m<ipython-input-1-f4d5d0c0671b>\u001b[0m in \u001b[0;36m<module>\u001b[1;34m()\u001b[0m\n\u001b[1;32m----> 1\u001b[1;33m \u001b[0ms\u001b[0m\u001b[1;33m\u001b[0m\u001b[0m\n\u001b[0m",
      "\u001b[1;31mNameError\u001b[0m: name 's' is not defined"
     ]
    }
   ],
   "source": [
    "s"
   ]
  },
  {
   "cell_type": "code",
   "execution_count": 2,
   "metadata": {},
   "outputs": [
    {
     "name": "stdout",
     "output_type": "stream",
     "text": [
      "[1, 2, 3]\n"
     ]
    }
   ],
   "source": [
    "import shelve\n",
    "\n",
    "s = shelve.open('./my_shelve')\n",
    "print(s['entry1'])"
   ]
  },
  {
   "cell_type": "code",
   "execution_count": 3,
   "metadata": {},
   "outputs": [
    {
     "data": {
      "text/plain": [
       "[1, 2, 3]"
      ]
     },
     "execution_count": 3,
     "metadata": {},
     "output_type": "execute_result"
    }
   ],
   "source": [
    "s['entry1'].append(4)\n",
    "s['entry1']"
   ]
  },
  {
   "cell_type": "code",
   "execution_count": 4,
   "metadata": {},
   "outputs": [
    {
     "data": {
      "text/plain": [
       "[1, 2, 3, 4]"
      ]
     },
     "execution_count": 4,
     "metadata": {},
     "output_type": "execute_result"
    }
   ],
   "source": [
    "test = s['entry1']\n",
    "test.append(4)\n",
    "s['entry1'] = test\n",
    "s['entry1']"
   ]
  },
  {
   "cell_type": "code",
   "execution_count": 5,
   "metadata": {},
   "outputs": [
    {
     "data": {
      "text/plain": [
       "['dump',\n",
       " 'dumps',\n",
       " 'load',\n",
       " 'loads',\n",
       " 'JSONDecoder',\n",
       " 'JSONDecodeError',\n",
       " 'JSONEncoder']"
      ]
     },
     "execution_count": 5,
     "metadata": {},
     "output_type": "execute_result"
    }
   ],
   "source": [
    "import json\n",
    "json.__all__"
   ]
  },
  {
   "cell_type": "code",
   "execution_count": 6,
   "metadata": {},
   "outputs": [],
   "source": [
    "my_list = [1, 2, 3, 4]\n",
    "with open('output.json', 'w') as f:\n",
    "    json.dump(my_list, f)"
   ]
  },
  {
   "cell_type": "markdown",
   "metadata": {},
   "source": [
    "type output.json\n",
    "输出 [1, 2, 3, 4]"
   ]
  },
  {
   "cell_type": "code",
   "execution_count": 7,
   "metadata": {},
   "outputs": [],
   "source": [
    "with open('output.json', 'r') as f:\n",
    "    my_list = json.load(f) "
   ]
  },
  {
   "cell_type": "code",
   "execution_count": 8,
   "metadata": {},
   "outputs": [
    {
     "data": {
      "text/plain": [
       "[1, 2, 3, 4]"
      ]
     },
     "execution_count": 8,
     "metadata": {},
     "output_type": "execute_result"
    }
   ],
   "source": [
    "my_list"
   ]
  },
  {
   "cell_type": "code",
   "execution_count": null,
   "metadata": {},
   "outputs": [],
   "source": []
  }
 ],
 "metadata": {
  "kernelspec": {
   "display_name": "Python 3",
   "language": "python",
   "name": "python3"
  },
  "language_info": {
   "codemirror_mode": {
    "name": "ipython",
    "version": 3
   },
   "file_extension": ".py",
   "mimetype": "text/x-python",
   "name": "python",
   "nbconvert_exporter": "python",
   "pygments_lexer": "ipython3",
   "version": "3.6.3"
  }
 },
 "nbformat": 4,
 "nbformat_minor": 4
}
