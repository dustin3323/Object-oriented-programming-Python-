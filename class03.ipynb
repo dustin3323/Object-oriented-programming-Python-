{
 "cells": [
  {
   "cell_type": "markdown",
   "metadata": {},
   "source": [
    "# 字符串"
   ]
  },
  {
   "cell_type": "code",
   "execution_count": 5,
   "metadata": {},
   "outputs": [],
   "source": [
    "str = 'hello, world!'"
   ]
  },
  {
   "cell_type": "code",
   "execution_count": 6,
   "metadata": {},
   "outputs": [
    {
     "data": {
      "text/plain": [
       "13"
      ]
     },
     "execution_count": 6,
     "metadata": {},
     "output_type": "execute_result"
    }
   ],
   "source": [
    "len(str)"
   ]
  },
  {
   "cell_type": "code",
   "execution_count": 7,
   "metadata": {},
   "outputs": [
    {
     "data": {
      "text/plain": [
       "'e'"
      ]
     },
     "execution_count": 7,
     "metadata": {},
     "output_type": "execute_result"
    }
   ],
   "source": [
    "str[1]"
   ]
  },
  {
   "cell_type": "code",
   "execution_count": 8,
   "metadata": {},
   "outputs": [
    {
     "name": "stdout",
     "output_type": "stream",
     "text": [
      "HELLO, WORLD!\n"
     ]
    }
   ],
   "source": [
    "print(str.upper())"
   ]
  },
  {
   "cell_type": "code",
   "execution_count": 9,
   "metadata": {},
   "outputs": [
    {
     "name": "stdout",
     "output_type": "stream",
     "text": [
      "hello, world!\n"
     ]
    }
   ],
   "source": [
    "print(str.lower())"
   ]
  },
  {
   "cell_type": "code",
   "execution_count": 10,
   "metadata": {},
   "outputs": [
    {
     "name": "stdout",
     "output_type": "stream",
     "text": [
      "Hello, World!\n"
     ]
    }
   ],
   "source": [
    "print(str.title())"
   ]
  },
  {
   "cell_type": "code",
   "execution_count": 11,
   "metadata": {},
   "outputs": [
    {
     "name": "stdout",
     "output_type": "stream",
     "text": [
      "helloy\n"
     ]
    }
   ],
   "source": [
    "st = 'hello'\n",
    "name = 'y'\n",
    "print(st+name)"
   ]
  },
  {
   "cell_type": "code",
   "execution_count": 16,
   "metadata": {},
   "outputs": [
    {
     "data": {
      "text/plain": [
       "'h e l l o y'"
      ]
     },
     "execution_count": 16,
     "metadata": {},
     "output_type": "execute_result"
    }
   ],
   "source": [
    "' '.join(st + name)"
   ]
  },
  {
   "cell_type": "code",
   "execution_count": 14,
   "metadata": {},
   "outputs": [
    {
     "data": {
      "text/plain": [
       "'1+2+3+4+5'"
      ]
     },
     "execution_count": 14,
     "metadata": {},
     "output_type": "execute_result"
    }
   ],
   "source": [
    "numbers = '12345'\n",
    "'+'.join(numbers)"
   ]
  },
  {
   "cell_type": "markdown",
   "metadata": {},
   "source": [
    "## 格式化输出"
   ]
  },
  {
   "cell_type": "code",
   "execution_count": 17,
   "metadata": {},
   "outputs": [
    {
     "data": {
      "text/plain": [
       "'Hello, world'"
      ]
     },
     "execution_count": 17,
     "metadata": {},
     "output_type": "execute_result"
    }
   ],
   "source": [
    "\"Hello, %s\" % 'world'"
   ]
  },
  {
   "cell_type": "code",
   "execution_count": 19,
   "metadata": {},
   "outputs": [
    {
     "name": "stdout",
     "output_type": "stream",
     "text": [
      "9 = 3 * 3\n",
      "9 = 3 * 3\n"
     ]
    }
   ],
   "source": [
    "x = 3\n",
    "print('{1} = {0} * {0}'.format(x, x * x))\n",
    "print('{} = {} * {}'.format(x*x, x, x))"
   ]
  },
  {
   "cell_type": "code",
   "execution_count": 20,
   "metadata": {},
   "outputs": [
    {
     "name": "stdout",
     "output_type": "stream",
     "text": [
      "name is yg, age is 51\n",
      "name is yg, age is 51.\n"
     ]
    }
   ],
   "source": [
    "print('name is {name}, age is {age}'.format(name = 'yg', age = 51))\n",
    "\n",
    "name = 'yg'\n",
    "age = 51\n",
    "print(f'name is {name}, age is {age}.') # format字符串"
   ]
  },
  {
   "cell_type": "code",
   "execution_count": 21,
   "metadata": {},
   "outputs": [
    {
     "data": {
      "text/plain": [
       "'   hello   '"
      ]
     },
     "execution_count": 21,
     "metadata": {},
     "output_type": "execute_result"
    }
   ],
   "source": [
    "'hello'.center(11) #填空居中"
   ]
  },
  {
   "cell_type": "code",
   "execution_count": 25,
   "metadata": {},
   "outputs": [
    {
     "data": {
      "text/plain": [
       "'**hello***'"
      ]
     },
     "execution_count": 25,
     "metadata": {},
     "output_type": "execute_result"
    }
   ],
   "source": [
    "'hello'.center(10, '*')"
   ]
  },
  {
   "cell_type": "code",
   "execution_count": 26,
   "metadata": {},
   "outputs": [
    {
     "name": "stdout",
     "output_type": "stream",
     "text": [
      "****************************************\n",
      "*            hello, world!             *\n",
      "****************************************\n"
     ]
    }
   ],
   "source": [
    "print('*' * 40)\n",
    "print('hello, world!'.center(38).center(40, '*'))\n",
    "print('*' * 40)"
   ]
  },
  {
   "cell_type": "markdown",
   "metadata": {},
   "source": [
    "## find & rfind函数"
   ]
  },
  {
   "cell_type": "code",
   "execution_count": 27,
   "metadata": {},
   "outputs": [
    {
     "data": {
      "text/plain": [
       "'ipynb'"
      ]
     },
     "execution_count": 27,
     "metadata": {},
     "output_type": "execute_result"
    }
   ],
   "source": [
    "# 找到文件类型\n",
    "file_path = r'D:\\bnuinfo\\object_note\\new\\title.ipynb'\n",
    "index = file_path.find('.')\n",
    "file_path[index+1:]"
   ]
  },
  {
   "cell_type": "code",
   "execution_count": 32,
   "metadata": {},
   "outputs": [
    {
     "name": "stdout",
     "output_type": "stream",
     "text": [
      "title.ipynb\n",
      "title\n"
     ]
    }
   ],
   "source": [
    "# 输出文件完整名字\n",
    "file_path.rfind('\\\\')\n",
    "print(file_path[file_path.rfind('\\\\')+1:])\n",
    "print(file_path[file_path.rfind('\\\\')+1 : file_path.find('.')])"
   ]
  },
  {
   "cell_type": "code",
   "execution_count": 34,
   "metadata": {},
   "outputs": [
    {
     "name": "stdin",
     "output_type": "stream",
     "text": [
      "do u like python? yes\n"
     ]
    },
    {
     "name": "stdout",
     "output_type": "stream",
     "text": [
      "Great.\n"
     ]
    }
   ],
   "source": [
    "answer = input('do u like python?')\n",
    "if answer.lower() == 'yes':\n",
    "    print('Great.')"
   ]
  },
  {
   "cell_type": "markdown",
   "metadata": {},
   "source": [
    "## replace函数"
   ]
  },
  {
   "cell_type": "code",
   "execution_count": 36,
   "metadata": {},
   "outputs": [
    {
     "data": {
      "text/plain": [
       "'HHello'"
      ]
     },
     "execution_count": 36,
     "metadata": {},
     "output_type": "execute_result"
    }
   ],
   "source": [
    "'hello'.replace('h', 'HH')"
   ]
  },
  {
   "cell_type": "code",
   "execution_count": 37,
   "metadata": {},
   "outputs": [
    {
     "data": {
      "text/plain": [
       "'hello, yg'"
      ]
     },
     "execution_count": 37,
     "metadata": {},
     "output_type": "execute_result"
    }
   ],
   "source": [
    "# 井号作为文本参数\n",
    "'hello, #name#'.replace('#name#', 'yg')"
   ]
  },
  {
   "cell_type": "markdown",
   "metadata": {},
   "source": [
    "# 字典"
   ]
  },
  {
   "cell_type": "code",
   "execution_count": 40,
   "metadata": {},
   "outputs": [
    {
     "name": "stdin",
     "output_type": "stream",
     "text": [
      "please input a name zhangsan\n"
     ]
    },
    {
     "name": "stdout",
     "output_type": "stream",
     "text": [
      "100\n"
     ]
    }
   ],
   "source": [
    "names = ['zhangsan', 'lisi', 'wangwu', 'maliu']\n",
    "scores = [100, 90, 80, 70]\n",
    "name = input('please input a name')\n",
    "print(scores[names.index(name)])"
   ]
  },
  {
   "cell_type": "code",
   "execution_count": 43,
   "metadata": {},
   "outputs": [
    {
     "name": "stdout",
     "output_type": "stream",
     "text": [
      "{'zhangsan': 100, 'lisi': 90, 'wangwu': 80, 'maliu': 70}\n"
     ]
    }
   ],
   "source": [
    "names = ['zhangsan', 'lisi', 'wangwu', 'maliu']\n",
    "scores = [100, 90, 80, 70]\n",
    "dic = {}\n",
    "for name in names:\n",
    "    dic[name] = scores[names.index(name)]\n",
    "\n",
    "print(dic)"
   ]
  },
  {
   "cell_type": "code",
   "execution_count": 45,
   "metadata": {},
   "outputs": [
    {
     "name": "stdin",
     "output_type": "stream",
     "text": [
      "please input a name zhangsan\n"
     ]
    },
    {
     "name": "stdout",
     "output_type": "stream",
     "text": [
      "100\n"
     ]
    }
   ],
   "source": [
    "scores = {'zhangsan':100, 'lisi':90, 'wangwu':80, 'maliu':70}\n",
    "name = input('please input a name')\n",
    "print(scores[name])"
   ]
  },
  {
   "cell_type": "code",
   "execution_count": 47,
   "metadata": {},
   "outputs": [
    {
     "data": {
      "text/plain": [
       "100"
      ]
     },
     "execution_count": 47,
     "metadata": {},
     "output_type": "execute_result"
    }
   ],
   "source": [
    "# 创建方式\n",
    "scores = {}\n",
    "# scores = dict()\n",
    "scores['zhangsan'] = 100\n",
    "scores['zhangsan']"
   ]
  },
  {
   "cell_type": "code",
   "execution_count": 48,
   "metadata": {},
   "outputs": [
    {
     "data": {
      "text/plain": [
       "False"
      ]
     },
     "execution_count": 48,
     "metadata": {},
     "output_type": "execute_result"
    }
   ],
   "source": [
    "'lisi' in scores"
   ]
  },
  {
   "cell_type": "code",
   "execution_count": 49,
   "metadata": {},
   "outputs": [
    {
     "name": "stdin",
     "output_type": "stream",
     "text": [
      "please input a name lisi\n"
     ]
    },
    {
     "name": "stdout",
     "output_type": "stream",
     "text": [
      "name not found\n"
     ]
    }
   ],
   "source": [
    "name = input('please input a name')\n",
    "if name in scores:\n",
    "    print(scores[name])\n",
    "else:\n",
    "    print('name not found')"
   ]
  },
  {
   "cell_type": "code",
   "execution_count": 50,
   "metadata": {},
   "outputs": [
    {
     "data": {
      "text/plain": [
       "{}"
      ]
     },
     "execution_count": 50,
     "metadata": {},
     "output_type": "execute_result"
    }
   ],
   "source": [
    "del scores['zhangsan']\n",
    "scores"
   ]
  },
  {
   "cell_type": "code",
   "execution_count": 51,
   "metadata": {},
   "outputs": [],
   "source": [
    "scores = {'lisi':80}"
   ]
  },
  {
   "cell_type": "code",
   "execution_count": 52,
   "metadata": {},
   "outputs": [
    {
     "data": {
      "text/plain": [
       "{'lisi': 80}"
      ]
     },
     "execution_count": 52,
     "metadata": {},
     "output_type": "execute_result"
    }
   ],
   "source": [
    "s2 = scores\n",
    "s2"
   ]
  },
  {
   "cell_type": "code",
   "execution_count": 53,
   "metadata": {},
   "outputs": [
    {
     "data": {
      "text/plain": [
       "{'lisi': 80, 'zhangsan': 100}"
      ]
     },
     "execution_count": 53,
     "metadata": {},
     "output_type": "execute_result"
    }
   ],
   "source": [
    "s2['zhangsan'] = 100\n",
    "scores"
   ]
  },
  {
   "cell_type": "code",
   "execution_count": 54,
   "metadata": {},
   "outputs": [
    {
     "data": {
      "text/plain": [
       "{'lisi': 100, 'maliu': 100, 'wangwu': 100, 'zhangsan': 100}"
      ]
     },
     "execution_count": 54,
     "metadata": {},
     "output_type": "execute_result"
    }
   ],
   "source": [
    "scores = {}.fromkeys(['zhangsan', 'lisi', 'wangwu', 'maliu'], 100) # 默认值\n",
    "scores"
   ]
  },
  {
   "cell_type": "code",
   "execution_count": 55,
   "metadata": {},
   "outputs": [
    {
     "data": {
      "text/plain": [
       "{'a': 4, 'e': 3, 'i': 3, 'o': 2, 'u': 0}"
      ]
     },
     "execution_count": 55,
     "metadata": {},
     "output_type": "execute_result"
    }
   ],
   "source": [
    "string = 'hello, this is a test. I am taking the class now.'\n",
    "count = dict.fromkeys('aeiou', 0)\n",
    "for ch in string:\n",
    "    if ch in 'aeiou':\n",
    "        count[ch] += 1\n",
    "\n",
    "count"
   ]
  },
  {
   "cell_type": "code",
   "execution_count": 58,
   "metadata": {},
   "outputs": [
    {
     "name": "stdout",
     "output_type": "stream",
     "text": [
      "4\n"
     ]
    }
   ],
   "source": [
    "print(count.get('a'))"
   ]
  },
  {
   "cell_type": "markdown",
   "metadata": {},
   "source": [
    "## 例子：用dict模拟结构体"
   ]
  },
  {
   "cell_type": "code",
   "execution_count": 59,
   "metadata": {},
   "outputs": [
    {
     "name": "stdin",
     "output_type": "stream",
     "text": [
      "pls input a name zhangsan\n",
      "pls input a score: 100\n"
     ]
    },
    {
     "name": "stdout",
     "output_type": "stream",
     "text": [
      "zhangsan's score is 100\n"
     ]
    }
   ],
   "source": [
    "student = dict.fromkeys(['name', 'score']) # fromkeys 参数为sequence\n",
    "student['name'] = input('pls input a name')\n",
    "student['score'] = int(input('pls input a score:'))\n",
    "print('{}\\'s score is {}'.format(student['name'], student['score']))"
   ]
  },
  {
   "cell_type": "code",
   "execution_count": 63,
   "metadata": {},
   "outputs": [
    {
     "data": {
      "text/plain": [
       "['san zhao',\n",
       " 'san qian',\n",
       " 'si zhao',\n",
       " 'si qian',\n",
       " 'wu zhao',\n",
       " 'wu qian',\n",
       " 'liu zhao',\n",
       " 'liu qian',\n",
       " 'jia zhao',\n",
       " 'jia qian',\n",
       " 'yi zhao',\n",
       " 'yi qian',\n",
       " 'bing zhao',\n",
       " 'bing qian',\n",
       " 'ding zhao',\n",
       " 'ding qian']"
      ]
     },
     "execution_count": 63,
     "metadata": {},
     "output_type": "execute_result"
    }
   ],
   "source": [
    "first_names = ['san','si','wu','liu','jia','yi','bing','ding']\n",
    "last_names = ['zhao','qian']\n",
    "names = list()\n",
    "for firstname in first_names:\n",
    "    for lastname in last_names:\n",
    "        names.append(firstname+' '+lastname)\n",
    "    \n",
    "names"
   ]
  },
  {
   "cell_type": "code",
   "execution_count": 64,
   "metadata": {},
   "outputs": [
    {
     "data": {
      "text/plain": [
       "'wu qian'"
      ]
     },
     "execution_count": 64,
     "metadata": {},
     "output_type": "execute_result"
    }
   ],
   "source": [
    "import random\n",
    "random.choice(names)"
   ]
  },
  {
   "cell_type": "code",
   "execution_count": 61,
   "metadata": {},
   "outputs": [
    {
     "name": "stdout",
     "output_type": "stream",
     "text": [
      "44 54 94 12 49 38 73 100 38 11 77 65 81 90 25 15 15 91 38 4 67 85 10 41 15 9 52 26 90 5 63 91 41 40 49 10 28 57 48 42 82 23 1 55 47 97 61 40 87 41 95 72 95 65 35 56 77 2 12 75 76 58 38 91 84 57 29 88 24 33 72 29 76 91 82 57 99 18 79 63 88 86 16 26 26 86 91 74 34 10 24 46 94 83 80 49 99 7 29 57 "
     ]
    }
   ],
   "source": [
    "import random\n",
    "for i in range(0,100):\n",
    "    score = random.randint(0,100)\n",
    "    print(score, end = ' ')"
   ]
  },
  {
   "cell_type": "code",
   "execution_count": 66,
   "metadata": {},
   "outputs": [
    {
     "name": "stdout",
     "output_type": "stream",
     "text": [
      "69 120 90 118 53 84 99 70 59 71 125 100 74 79 52 54 74 63 46 84 93 107 59 93 65 79 109 87 112 84 71 87 96 85 96 64 77 71 77 41 65 74 69 82 80 92 71 85 42 25 76 63 46 100 89 83 86 46 73 58 83 55 31 38 60 67 102 67 62 66 68 92 48 85 41 73 84 42 59 87 83 59 102 96 74 71 74 66 65 99 77 48 59 59 83 75 70 60 60 66 "
     ]
    }
   ],
   "source": [
    "import math\n",
    "import random\n",
    "for i in range(0,100):\n",
    "    score = math.ceil(random.gauss(75,20))\n",
    "    if score > 100: score == 100\n",
    "    elif score < 0: score == 0\n",
    "    print(score, end = ' ')"
   ]
  },
  {
   "cell_type": "code",
   "execution_count": 70,
   "metadata": {},
   "outputs": [
    {
     "data": {
      "text/plain": [
       "{'bing qian': {'Math': 69, 'Physics': 52, 'Python': 75},\n",
       " 'bing zhao': {'Math': 90, 'Physics': 96, 'Python': 77},\n",
       " 'ding qian': {'Math': 63, 'Physics': 93, 'Python': 80},\n",
       " 'ding zhao': {'Math': 95, 'Physics': 97, 'Python': 65},\n",
       " 'jia qian': {'Math': 73, 'Physics': 70, 'Python': 76},\n",
       " 'jia zhao': {'Math': 77, 'Physics': 89, 'Python': 74},\n",
       " 'liu qian': {'Math': 54, 'Physics': 59, 'Python': 107},\n",
       " 'liu zhao': {'Math': 109, 'Physics': 67, 'Python': 115},\n",
       " 'san qian': {'Math': 67, 'Physics': 96, 'Python': 92},\n",
       " 'san zhao': {'Math': 102, 'Physics': 62, 'Python': 65},\n",
       " 'si qian': {'Math': 64, 'Physics': 69, 'Python': 94},\n",
       " 'si zhao': {'Math': 61, 'Physics': 84, 'Python': 90},\n",
       " 'wu qian': {'Math': 70, 'Physics': 42, 'Python': 87},\n",
       " 'wu zhao': {'Math': 130, 'Physics': 43, 'Python': 48},\n",
       " 'yi qian': {'Math': 97, 'Physics': 87, 'Python': 42},\n",
       " 'yi zhao': {'Math': 104, 'Physics': 68, 'Python': 84}}"
      ]
     },
     "execution_count": 70,
     "metadata": {},
     "output_type": "execute_result"
    }
   ],
   "source": [
    "score_db = {}\n",
    "score_template = {}.fromkeys(['Physics', 'Math', 'Python'])\n",
    "for name in names:\n",
    "    scores = score_template.copy()\n",
    "    \n",
    "    score = math.ceil(random.gauss(75,20))\n",
    "    if score > 100: score == 100\n",
    "    elif score < 0: score == 0\n",
    "    scores['Physics'] = score\n",
    "    \n",
    "    score = math.ceil(random.gauss(75,20))\n",
    "    if score > 100: score == 100\n",
    "    elif score < 0: score == 0\n",
    "    scores['Math'] = score\n",
    "    \n",
    "    score = math.ceil(random.gauss(75,20))\n",
    "    if score > 100: score == 100\n",
    "    elif score < 0: score == 0\n",
    "    scores['Python'] = score\n",
    "    \n",
    "    score_db[name] = scores\n",
    "score_db"
   ]
  },
  {
   "cell_type": "markdown",
   "metadata": {},
   "source": [
    "# 函数"
   ]
  },
  {
   "cell_type": "code",
   "execution_count": 73,
   "metadata": {},
   "outputs": [
    {
     "data": {
      "text/plain": [
       "7"
      ]
     },
     "execution_count": 73,
     "metadata": {},
     "output_type": "execute_result"
    }
   ],
   "source": [
    "def add(a,b):\n",
    "    return a+b\n",
    "\n",
    "add(3,4)"
   ]
  },
  {
   "cell_type": "code",
   "execution_count": 76,
   "metadata": {},
   "outputs": [
    {
     "name": "stdout",
     "output_type": "stream",
     "text": [
      "{'bing qian': {'Math': 69, 'Physics': 81, 'Python': 41},\n",
      " 'bing zhao': {'Math': 84, 'Physics': 38, 'Python': 60},\n",
      " 'ding qian': {'Math': 50, 'Physics': 86, 'Python': 87},\n",
      " 'ding zhao': {'Math': 54, 'Physics': 77, 'Python': 51},\n",
      " 'jia qian': {'Math': 69, 'Physics': 92, 'Python': 50},\n",
      " 'jia zhao': {'Math': 86, 'Physics': 66, 'Python': 107},\n",
      " 'liu qian': {'Math': 50, 'Physics': 47, 'Python': 64},\n",
      " 'liu zhao': {'Math': 77, 'Physics': 76, 'Python': 71},\n",
      " 'san qian': {'Math': 48, 'Physics': 83, 'Python': 91},\n",
      " 'san zhao': {'Math': 91, 'Physics': 104, 'Python': 90},\n",
      " 'si qian': {'Math': 90, 'Physics': 85, 'Python': 110},\n",
      " 'si zhao': {'Math': 68, 'Physics': 59, 'Python': 61},\n",
      " 'wu qian': {'Math': 65, 'Physics': 59, 'Python': 82},\n",
      " 'wu zhao': {'Math': 44, 'Physics': 78, 'Python': 70},\n",
      " 'yi qian': {'Math': 78, 'Physics': 60, 'Python': 111},\n",
      " 'yi zhao': {'Math': 64, 'Physics': 75, 'Python': 61}}\n"
     ]
    }
   ],
   "source": [
    "import pprint\n",
    "def get_random_score():\n",
    "    score = math.ceil(random.gauss(75,20))\n",
    "    if score > 100: score == 100\n",
    "    elif score < 0: score == 0\n",
    "    return score\n",
    "\n",
    "\n",
    "score_db = {}\n",
    "score_template = {}.fromkeys(['Physics', 'Math', 'Python'])\n",
    "for name in names:\n",
    "    scores = score_template.copy()\n",
    "    \n",
    "    scores['Physics'] = get_random_score()\n",
    "    scores['Math'] = get_random_score()\n",
    "    scores['Python'] = get_random_score()\n",
    "    \n",
    "    score_db[name] = scores\n",
    "pprint.pprint(score_db)"
   ]
  },
  {
   "cell_type": "code",
   "execution_count": 80,
   "metadata": {},
   "outputs": [
    {
     "name": "stdin",
     "output_type": "stream",
     "text": [
      "pls input a number yi zhao\n"
     ]
    },
    {
     "name": "stdout",
     "output_type": "stream",
     "text": [
      "Physics 75\n",
      "Math 64\n",
      "Python 61\n"
     ]
    }
   ],
   "source": [
    "name = input('pls input a number')\n",
    "if name in score_db.keys():\n",
    "    print('Physics', score_db[name]['Physics'])\n",
    "    print('Math', score_db[name]['Math'])\n",
    "    print('Python', score_db[name]['Python'])\n",
    "else:\n",
    "    print(':P')"
   ]
  },
  {
   "cell_type": "code",
   "execution_count": 87,
   "metadata": {},
   "outputs": [
    {
     "name": "stdout",
     "output_type": "stream",
     "text": [
      "name\t\tphysics\tmath\tpython\t\n",
      "       san zhao 104\t91\t90\n",
      "       san qian 83\t48\t91\n",
      "        si zhao 59\t68\t61\n",
      "        si qian 85\t90\t110\n",
      "        wu zhao 78\t44\t70\n",
      "        wu qian 59\t65\t82\n",
      "       liu zhao 76\t77\t71\n",
      "       liu qian 47\t50\t64\n",
      "       jia zhao 66\t86\t107\n",
      "       jia qian 92\t69\t50\n",
      "        yi zhao 75\t64\t61\n",
      "        yi qian 60\t78\t111\n",
      "      bing zhao 38\t84\t60\n",
      "      bing qian 81\t69\t41\n",
      "      ding zhao 77\t54\t51\n",
      "      ding qian 86\t50\t87\n"
     ]
    }
   ],
   "source": [
    "print('name\\t\\tphysics\\tmath\\tpython\\t')\n",
    "for name in score_db.keys():\n",
    "    print('{:>15}'.format(name), end = ' ')\n",
    "    print(score_db[name]['Physics'], end = '\\t')\n",
    "    print(score_db[name]['Math'], end = '\\t')\n",
    "    print(score_db[name]['Python'], end = '\\n')"
   ]
  },
  {
   "cell_type": "code",
   "execution_count": 88,
   "metadata": {},
   "outputs": [
    {
     "data": {
      "text/plain": [
       "dict_items([('san zhao', {'Physics': 104, 'Math': 91, 'Python': 90}), ('san qian', {'Physics': 83, 'Math': 48, 'Python': 91}), ('si zhao', {'Physics': 59, 'Math': 68, 'Python': 61}), ('si qian', {'Physics': 85, 'Math': 90, 'Python': 110}), ('wu zhao', {'Physics': 78, 'Math': 44, 'Python': 70}), ('wu qian', {'Physics': 59, 'Math': 65, 'Python': 82}), ('liu zhao', {'Physics': 76, 'Math': 77, 'Python': 71}), ('liu qian', {'Physics': 47, 'Math': 50, 'Python': 64}), ('jia zhao', {'Physics': 66, 'Math': 86, 'Python': 107}), ('jia qian', {'Physics': 92, 'Math': 69, 'Python': 50}), ('yi zhao', {'Physics': 75, 'Math': 64, 'Python': 61}), ('yi qian', {'Physics': 60, 'Math': 78, 'Python': 111}), ('bing zhao', {'Physics': 38, 'Math': 84, 'Python': 60}), ('bing qian', {'Physics': 81, 'Math': 69, 'Python': 41}), ('ding zhao', {'Physics': 77, 'Math': 54, 'Python': 51}), ('ding qian', {'Physics': 86, 'Math': 50, 'Python': 87})])"
      ]
     },
     "execution_count": 88,
     "metadata": {},
     "output_type": "execute_result"
    }
   ],
   "source": [
    "score_db.items()"
   ]
  },
  {
   "cell_type": "code",
   "execution_count": 94,
   "metadata": {},
   "outputs": [
    {
     "data": {
      "text/plain": [
       "[('bing qian', {'Math': 69, 'Physics': 81, 'Python': 41}),\n",
       " ('bing zhao', {'Math': 84, 'Physics': 38, 'Python': 60}),\n",
       " ('ding qian', {'Math': 50, 'Physics': 86, 'Python': 87}),\n",
       " ('ding zhao', {'Math': 54, 'Physics': 77, 'Python': 51}),\n",
       " ('jia qian', {'Math': 69, 'Physics': 92, 'Python': 50}),\n",
       " ('jia zhao', {'Math': 86, 'Physics': 66, 'Python': 107}),\n",
       " ('liu qian', {'Math': 50, 'Physics': 47, 'Python': 64}),\n",
       " ('liu zhao', {'Math': 77, 'Physics': 76, 'Python': 71}),\n",
       " ('san qian', {'Math': 48, 'Physics': 83, 'Python': 91}),\n",
       " ('san zhao', {'Math': 91, 'Physics': 104, 'Python': 90}),\n",
       " ('si qian', {'Math': 90, 'Physics': 85, 'Python': 110}),\n",
       " ('si zhao', {'Math': 68, 'Physics': 59, 'Python': 61}),\n",
       " ('wu qian', {'Math': 65, 'Physics': 59, 'Python': 82}),\n",
       " ('wu zhao', {'Math': 44, 'Physics': 78, 'Python': 70}),\n",
       " ('yi qian', {'Math': 78, 'Physics': 60, 'Python': 111}),\n",
       " ('yi zhao', {'Math': 64, 'Physics': 75, 'Python': 61})]"
      ]
     },
     "execution_count": 94,
     "metadata": {},
     "output_type": "execute_result"
    }
   ],
   "source": [
    "items = score_db.items()\n",
    "sorted(items)"
   ]
  },
  {
   "cell_type": "code",
   "execution_count": 100,
   "metadata": {},
   "outputs": [
    {
     "name": "stdout",
     "output_type": "stream",
     "text": [
      "       san zhao\t104\t91\t90\n",
      "        si qian\t85\t90\t110\n",
      "       jia zhao\t66\t86\t107\n",
      "        yi qian\t60\t78\t111\n",
      "       liu zhao\t76\t77\t71\n",
      "      ding qian\t86\t50\t87\n",
      "       san qian\t83\t48\t91\n",
      "       jia qian\t92\t69\t50\n",
      "        wu qian\t59\t65\t82\n",
      "        yi zhao\t75\t64\t61\n",
      "        wu zhao\t78\t44\t70\n",
      "      bing qian\t81\t69\t41\n",
      "        si zhao\t59\t68\t61\n",
      "      bing zhao\t38\t84\t60\n",
      "      ding zhao\t77\t54\t51\n",
      "       liu qian\t47\t50\t64\n"
     ]
    }
   ],
   "source": [
    "def total(item):\n",
    "    return item[1]['Physics'] + item[1]['Math'] + item[1]['Python']\n",
    "    \n",
    "    \n",
    "items = score_db.items()\n",
    "sorted_scores = sorted(items, key = total, reverse = True) #根据指定参数排序\n",
    "\n",
    "for item in sorted_scores:\n",
    "    print('{:>15}'.format(item[0]), end = '\\t')\n",
    "    print(score_db[item[0]]['Physics'], end = '\\t')\n",
    "    print(score_db[item[0]]['Math'], end = '\\t')\n",
    "    print(score_db[item[0]]['Python'], end = '\\n')"
   ]
  }
 ],
 "metadata": {
  "kernelspec": {
   "display_name": "Python 3",
   "language": "python",
   "name": "python3"
  },
  "language_info": {
   "codemirror_mode": {
    "name": "ipython",
    "version": 3
   },
   "file_extension": ".py",
   "mimetype": "text/x-python",
   "name": "python",
   "nbconvert_exporter": "python",
   "pygments_lexer": "ipython3",
   "version": "3.6.3"
  }
 },
 "nbformat": 4,
 "nbformat_minor": 4
}
