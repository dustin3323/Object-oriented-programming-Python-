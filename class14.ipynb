{
 "cells": [
  {
   "cell_type": "markdown",
   "metadata": {},
   "source": [
    "1-9数字，大家轮流报数。每个数字只能抢一次。抢到的数字和为15即为胜利"
   ]
  },
  {
   "cell_type": "markdown",
   "metadata": {},
   "source": [
    "棋盘上下棋，连成3个\n",
    "Tic Tac Toe"
   ]
  },
  {
   "cell_type": "code",
   "execution_count": 4,
   "metadata": {},
   "outputs": [
    {
     "name": "stdout",
     "output_type": "stream",
     "text": [
      "----\n",
      "   \n",
      "   \n",
      "   \n",
      "----\n"
     ]
    },
    {
     "name": "stdin",
     "output_type": "stream",
     "text": [
      "row:  1\n",
      "column:  1\n"
     ]
    },
    {
     "name": "stdout",
     "output_type": "stream",
     "text": [
      "----\n",
      "   \n",
      " X \n",
      "   \n",
      "----\n"
     ]
    },
    {
     "name": "stdin",
     "output_type": "stream",
     "text": [
      "row:  0\n",
      "column:  0\n"
     ]
    },
    {
     "name": "stdout",
     "output_type": "stream",
     "text": [
      "----\n",
      "0  \n",
      " X \n",
      "   \n",
      "----\n"
     ]
    },
    {
     "name": "stdin",
     "output_type": "stream",
     "text": [
      "row:  1\n",
      "column:  2\n"
     ]
    },
    {
     "name": "stdout",
     "output_type": "stream",
     "text": [
      "----\n",
      "0  \n",
      " XX\n",
      "   \n",
      "----\n"
     ]
    },
    {
     "name": "stdin",
     "output_type": "stream",
     "text": [
      "row:  1\n",
      "column:  0\n"
     ]
    },
    {
     "name": "stdout",
     "output_type": "stream",
     "text": [
      "----\n",
      "0  \n",
      "0XX\n",
      "   \n",
      "----\n"
     ]
    },
    {
     "name": "stdin",
     "output_type": "stream",
     "text": [
      "row:  2\n",
      "column:  0\n"
     ]
    },
    {
     "name": "stdout",
     "output_type": "stream",
     "text": [
      "----\n",
      "0  \n",
      "0XX\n",
      "X  \n",
      "----\n"
     ]
    },
    {
     "name": "stdin",
     "output_type": "stream",
     "text": [
      "row:  0\n",
      "column:  2\n"
     ]
    },
    {
     "name": "stdout",
     "output_type": "stream",
     "text": [
      "----\n",
      "0 0\n",
      "0XX\n",
      "X  \n",
      "----\n"
     ]
    },
    {
     "name": "stdin",
     "output_type": "stream",
     "text": [
      "row:  0\n",
      "column:  1\n"
     ]
    },
    {
     "name": "stdout",
     "output_type": "stream",
     "text": [
      "----\n",
      "0X0\n",
      "0XX\n",
      "X  \n",
      "----\n"
     ]
    },
    {
     "name": "stdin",
     "output_type": "stream",
     "text": [
      "row:  2\n",
      "column:  1\n"
     ]
    },
    {
     "name": "stdout",
     "output_type": "stream",
     "text": [
      "----\n",
      "0X0\n",
      "0XX\n",
      "X0 \n",
      "----\n"
     ]
    },
    {
     "name": "stdin",
     "output_type": "stream",
     "text": [
      "row:  2\n",
      "column:  2\n"
     ]
    },
    {
     "name": "stdout",
     "output_type": "stream",
     "text": [
      "----\n",
      "0X0\n",
      "0XX\n",
      "X0X\n",
      "----\n"
     ]
    }
   ],
   "source": [
    "from abc import ABC, abstractmethod\n",
    "from enum import Enum\n",
    "from copy import deepcopy\n",
    "from random import choice\n",
    "\n",
    "# black = -1, X\n",
    "# white = 1, O\n",
    "\n",
    "class GameResult(Enum):\n",
    "    Continue = 0\n",
    "    BlackWin = 1\n",
    "    WhiteWin = 2\n",
    "    Draw = 3\n",
    "\n",
    "class Prediction(Enum):\n",
    "    pass\n",
    "    \n",
    "class Board:\n",
    "    def __init__(self):\n",
    "        self.__model = [[0,0,0], [0,0,0], [0,0,0]]\n",
    "    \n",
    "    def add_move(self, position, color):\n",
    "        if self.__model[position[0]][position[1]] != 0:\n",
    "            return False\n",
    "        self.__model[position[0]][position[1]] = color\n",
    "        return True\n",
    "        \n",
    "    def draw(self):\n",
    "        symbols = {-1:'X', 0:' ', 1:'0'}\n",
    "        print('----')\n",
    "        for row in self.__model:\n",
    "            for item in row:\n",
    "                print(symbols[item], end='', sep='')\n",
    "                \n",
    "            print('')\n",
    "        print('----')\n",
    "        \n",
    "    def get_model(self):\n",
    "        return self.__model\n",
    "\n",
    "class Player(ABC):  # abstract base class\n",
    "    @abstractmethod\n",
    "    def move(self, model):\n",
    "        pass\n",
    "    \n",
    "class HumanPlayer(Player):\n",
    "    def move(self, model):\n",
    "        row = int(input('row: '))\n",
    "        column = int(input('column: '))\n",
    "        return row, column\n",
    "        pass\n",
    "    \n",
    "class Aiplayer(Player):\n",
    "    def move(self, model, color):\n",
    "        self.find_move(nodel,color)[1]\n",
    "        \n",
    "    def find_move(self, model, color):\n",
    "        if model[1][1] == 0:\n",
    "            return Predition.Draw, (1,1)\n",
    "        \n",
    "        for row in range(0,3):\n",
    "            for column in range(0,3):\n",
    "                if model[row][column] != 0:\n",
    "                    continue\n",
    "                private_model = deepcopy(model)\n",
    "                private_model[row][colmn] = color\n",
    "                result = Judge().judge(private_model)\n",
    "                if result == (GameResult.BlackWin\n",
    "                            if color == -1 else GameResult.WhiteWin):\n",
    "                    return Predition.Win, (row, column)\n",
    "                elif result == GameResult.Draw:\n",
    "                    return Predition.Draw, (row, column)\n",
    "                \n",
    "        draw_moves = list()\n",
    "        lose_moves = list()\n",
    "        for row in range(0,3):\n",
    "            for column in range(0,3):\n",
    "                if model[row][column] != 0: continue\n",
    "                private_model = deepcopy(model)\n",
    "                private_model[row][column] = color\n",
    "                opponent_result = self.find_move(private_model, -1*color)\n",
    "                if opponent_result[0] == Predition.Lose:\n",
    "                    return Predition.Win, (row,colomn)\n",
    "                elif opponent_result[0] == Prediction.Draw:\n",
    "                    draw_moves.append((row,column))\n",
    "                else:\n",
    "                    lose_moves.append((row,column))\n",
    "         \n",
    "        if draw_moves:\n",
    "            return Prediciton.Draw, choice(draw_moves)\n",
    "        \n",
    "        return Prediction.Lose, choice(lose_moves)\n",
    "\n",
    "class Judge:\n",
    "    def judge(self, model):\n",
    "        if self.is_win(model, -1):\n",
    "            return GameResult.BlackWin\n",
    "        if self.is_win(model, 1):\n",
    "            return BameResult.WhiteWin\n",
    "        if self.is_full(model):\n",
    "            return GameResult.Draw\n",
    "        else:\n",
    "            return GameResult.Continue\n",
    "        \n",
    "    def is_full(self, model):\n",
    "        for row in model:\n",
    "            if not all(row):\n",
    "                return False\n",
    "        return True\n",
    "    \n",
    "    def is_win(self, model, color):\n",
    "        conditions = [\n",
    "            model[0][0] == model[1][1] == model[2][2] ==color, \n",
    "            model[0][2] == model[1][1] == model[2][0] ==color,\n",
    "            model[0][0] == model[0][1] == model[0][2] ==color,\n",
    "            model[1][0] == model[1][1] == model[1][2] ==color, \n",
    "            model[2][0] == model[2][1] == model[2][2]==color,\n",
    "            model[0][0] == model[1][0] == model[2][0]==color,\n",
    "            model[0][1] == model[1][1] == model[2][1]==color,\n",
    "            model[0][2] == model[1][2] == model[2][2]==color]\n",
    "        return any(conditions)\n",
    "\n",
    "def test():\n",
    "    board = Board()\n",
    "    board.add_move((1,1),-1)\n",
    "    board.add_move((0,0),1)\n",
    "    board.draw()\n",
    "\n",
    "def run():\n",
    "    players = [AiPlayer(), HumanPlayer()]\n",
    "    board = Board()\n",
    "    judge = Judge()\n",
    "    \n",
    "    board.draw()\n",
    "    \n",
    "    index = 0\n",
    "    color = -1\n",
    "    result = GameResult.Continue\n",
    "    while result == GameResult.Continue:\n",
    "        while not board.add_move(players[index].move(board.get_model()), color):\n",
    "            pass\n",
    "        board.draw()\n",
    "        result = judge.judge(board.get_model())\n",
    "        index = 1 - index\n",
    "        color = -1 * color\n",
    "        \n",
    "    if result == GameResult.BlackWin:\n",
    "        print('Black wins!')\n",
    "    elif result == GameResult.WhiteWin:\n",
    "        print('White wins!')\n",
    "    else:\n",
    "        print('Draw.')\n",
    "#         position = players[1].move()\n",
    "#         board.add_move(position, 1)\n",
    "#         board.draw()\n",
    "#         judge.judge()\n",
    "    \n",
    "    \n",
    "if __name__ == '__main__':\n",
    "    run()"
   ]
  },
  {
   "cell_type": "code",
   "execution_count": 6,
   "metadata": {
    "collapsed": true,
    "jupyter": {
     "outputs_hidden": true
    }
   },
   "outputs": [
    {
     "data": {
      "text/plain": [
       "True"
      ]
     },
     "execution_count": 6,
     "metadata": {},
     "output_type": "execute_result"
    }
   ],
   "source": [
    "all([1,2])"
   ]
  },
  {
   "cell_type": "code",
   "execution_count": 7,
   "metadata": {
    "collapsed": true,
    "jupyter": {
     "outputs_hidden": true
    }
   },
   "outputs": [
    {
     "data": {
      "text/plain": [
       "False"
      ]
     },
     "execution_count": 7,
     "metadata": {},
     "output_type": "execute_result"
    }
   ],
   "source": [
    "all([0,1])"
   ]
  },
  {
   "cell_type": "code",
   "execution_count": null,
   "metadata": {
    "collapsed": true,
    "jupyter": {
     "outputs_hidden": true
    }
   },
   "outputs": [],
   "source": [
    "for row in range(0, 3):\n",
    "            if all([item == -1 for item in row]):\n",
    "                return GameResult.BlackWin\n",
    "        for column in range(0,3):\n",
    "            if model[0][column] == model[1][column] ==model[2][column]==-1:\n",
    "                return GameResult.BlackWin\n",
    "        if model[0][0] == model[1][1] == model[2][2] ==-1:\n",
    "            return GameResult.BlackWin\n",
    "        if model[0][2] == model[1][1] == model[2][0] ==-1:\n",
    "            return GameResult.BlackWin"
   ]
  },
  {
   "cell_type": "code",
   "execution_count": null,
   "metadata": {},
   "outputs": [],
   "source": [
    "# 如何实现抢数字"
   ]
  }
 ],
 "metadata": {
  "kernelspec": {
   "display_name": "Python 3",
   "language": "python",
   "name": "python3"
  },
  "language_info": {
   "codemirror_mode": {
    "name": "ipython",
    "version": 3
   },
   "file_extension": ".py",
   "mimetype": "text/x-python",
   "name": "python",
   "nbconvert_exporter": "python",
   "pygments_lexer": "ipython3",
   "version": "3.6.3"
  }
 },
 "nbformat": 4,
 "nbformat_minor": 4
}
