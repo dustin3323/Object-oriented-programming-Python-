{
 "cells": [
  {
   "cell_type": "markdown",
   "metadata": {},
   "source": [
    "# Review 'list'"
   ]
  },
  {
   "cell_type": "code",
   "execution_count": 1,
   "metadata": {},
   "outputs": [
    {
     "data": {
      "text/plain": [
       "[1, 2, 3]"
      ]
     },
     "execution_count": 1,
     "metadata": {},
     "output_type": "execute_result"
    }
   ],
   "source": [
    "a = [1,2,3]\n",
    "a"
   ]
  },
  {
   "cell_type": "code",
   "execution_count": 3,
   "metadata": {},
   "outputs": [
    {
     "data": {
      "text/plain": [
       "[1, 2, 3, 4, 5, 6, 7, 8, 9, 10]"
      ]
     },
     "execution_count": 3,
     "metadata": {},
     "output_type": "execute_result"
    }
   ],
   "source": [
    "a = list(range(1,11))\n",
    "a"
   ]
  },
  {
   "cell_type": "code",
   "execution_count": 4,
   "metadata": {},
   "outputs": [
    {
     "data": {
      "text/plain": [
       "True"
      ]
     },
     "execution_count": 4,
     "metadata": {},
     "output_type": "execute_result"
    }
   ],
   "source": [
    "3 in a"
   ]
  },
  {
   "cell_type": "code",
   "execution_count": 5,
   "metadata": {},
   "outputs": [
    {
     "data": {
      "text/plain": [
       "False"
      ]
     },
     "execution_count": 5,
     "metadata": {},
     "output_type": "execute_result"
    }
   ],
   "source": [
    "'3' in a"
   ]
  },
  {
   "cell_type": "code",
   "execution_count": 6,
   "metadata": {},
   "outputs": [
    {
     "name": "stdout",
     "output_type": "stream",
     "text": [
      "hhhhhhhhhh"
     ]
    }
   ],
   "source": [
    "for i in range(0,10):\n",
    "    print('h', end = '')"
   ]
  },
  {
   "cell_type": "code",
   "execution_count": 7,
   "metadata": {},
   "outputs": [
    {
     "name": "stdin",
     "output_type": "stream",
     "text": [
      "please input a number: 3\n"
     ]
    },
    {
     "name": "stdout",
     "output_type": "stream",
     "text": [
      "fine\n"
     ]
    }
   ],
   "source": [
    "value = int(input('please input a number:'))\n",
    "# if value == 3 or value == 4 or value == 5:\n",
    "if value in [3,4,5]:\n",
    "    print('fine')\n",
    "else:\n",
    "    print('not fine')"
   ]
  },
  {
   "cell_type": "code",
   "execution_count": 8,
   "metadata": {},
   "outputs": [
    {
     "name": "stdout",
     "output_type": "stream",
     "text": [
      "1^3=1\t2^3=8\t3^3=27\t4^3=64\t5^3=125\t6^3=216\t7^3=343\t8^3=512\t9^3=729\t"
     ]
    }
   ],
   "source": [
    "for i in range(1, 10):\n",
    "    print('{}^3={}'.format(i, i**3), end = '\\t')"
   ]
  },
  {
   "cell_type": "code",
   "execution_count": 11,
   "metadata": {},
   "outputs": [
    {
     "name": "stdout",
     "output_type": "stream",
     "text": [
      "+++++++++*\n",
      "++++++++***\n",
      "+++++++*****\n",
      "++++++*******\n",
      "+++++*********\n",
      "++++***********\n",
      "+++*************\n",
      "++***************\n",
      "+*****************\n",
      "*******************\n"
     ]
    }
   ],
   "source": [
    "for i in range(0, 10):\n",
    "#     print('+' * (9-i), '*' * (2*i+1)) # print每两项中间会自动加空格\n",
    "    print('+' * (9-i), '*' * (2*i+1), sep = '') # 去掉分开的空格"
   ]
  },
  {
   "cell_type": "code",
   "execution_count": 12,
   "metadata": {},
   "outputs": [
    {
     "name": "stdout",
     "output_type": "stream",
     "text": [
      "[1, 2, 3, 4, 5, 6, 7, 8, 9]\n",
      "after del: [2, 3, 4, 5, 6, 7, 8, 9]\n"
     ]
    }
   ],
   "source": [
    "a = list(range(1, 10))\n",
    "print(a)\n",
    "del a[0]\n",
    "print('after del:',a)"
   ]
  },
  {
   "cell_type": "code",
   "execution_count": 13,
   "metadata": {},
   "outputs": [
    {
     "data": {
      "text/plain": [
       "[]"
      ]
     },
     "execution_count": 13,
     "metadata": {},
     "output_type": "execute_result"
    }
   ],
   "source": [
    "# 面向对象的特性\n",
    "a.clear()\n",
    "a"
   ]
  },
  {
   "cell_type": "code",
   "execution_count": 20,
   "metadata": {},
   "outputs": [
    {
     "name": "stdout",
     "output_type": "stream",
     "text": [
      "a [1, 2, 3]\n",
      "b [1, 2, 3]\n",
      "a [2, 3]\n",
      "b [2, 3]\n"
     ]
    }
   ],
   "source": [
    "a = list(range(1,4))\n",
    "b = a\n",
    "print('a', a)\n",
    "print('b', b)\n",
    "del b[0]\n",
    "print('a', a)\n",
    "print('b', b) # a和b是同一个东西"
   ]
  },
  {
   "cell_type": "code",
   "execution_count": 22,
   "metadata": {},
   "outputs": [
    {
     "name": "stdout",
     "output_type": "stream",
     "text": [
      "a [1, 2, 3]\n",
      "b [1, 2, 3]\n",
      "a [1, 2, 3]\n",
      "b [2, 3]\n",
      "a [1, 2, 3]\n",
      "b [2, 3, 4]\n"
     ]
    }
   ],
   "source": [
    "a = list(range(1,4))\n",
    "b = a.copy() # 生成了另一个东西\n",
    "print('a', a)\n",
    "print('b', b)\n",
    "del b[0]\n",
    "print('a', a)\n",
    "print('b', b)\n",
    "b.append(4)\n",
    "print('a', a)\n",
    "print('b', b)"
   ]
  },
  {
   "cell_type": "code",
   "execution_count": 23,
   "metadata": {},
   "outputs": [
    {
     "data": {
      "text/plain": [
       "4"
      ]
     },
     "execution_count": 23,
     "metadata": {},
     "output_type": "execute_result"
    }
   ],
   "source": [
    "a = [1, 2, 3, [4, 5]]\n",
    "a[3][0]"
   ]
  },
  {
   "cell_type": "code",
   "execution_count": 26,
   "metadata": {},
   "outputs": [
    {
     "name": "stdout",
     "output_type": "stream",
     "text": [
      "a [1, 2, 3, [4.1, 5]]\n",
      "b [1, 2, 3, [4.1, 5]]\n",
      "a [1, 2, 3, [4.1, 5]]\n",
      "b [1, 2, 3, [4.1, 5]]\n",
      "a [0, 2, 3, [4.1, 5]]\n",
      "b [1, 2, 3, [4.1, 5]]\n"
     ]
    }
   ],
   "source": [
    "'''\n",
    "a = [1, 2, 3, [4, 5]], copy过程中把[4,5]看成一个c, 所以在改变a中的c时，b中的c也在改变\n",
    "'''\n",
    "b = a.copy() # 把其中的每一个元素都创建了一个新的对象\n",
    "print('a', a)\n",
    "print('b', b)\n",
    "\n",
    "a[3][0] = 4.1\n",
    "print('a', a)\n",
    "print('b', b)\n",
    "\n",
    "a[0] = 0\n",
    "print('a', a)\n",
    "print('b', b)"
   ]
  },
  {
   "cell_type": "code",
   "execution_count": 27,
   "metadata": {},
   "outputs": [
    {
     "name": "stdout",
     "output_type": "stream",
     "text": [
      "a [1, 2, 3, [4, 5]]\n",
      "b [1, 2, 3, [4, 5]]\n"
     ]
    }
   ],
   "source": [
    "# 想要完全copy作为备份，需要调用copy包中的deepcopy函数\n",
    "import copy\n",
    "a = [1, 2, 3, [4, 5]]\n",
    "b = copy.deepcopy(a)\n",
    "print('a', a)\n",
    "print('b', b)"
   ]
  },
  {
   "cell_type": "code",
   "execution_count": 28,
   "metadata": {},
   "outputs": [
    {
     "name": "stdout",
     "output_type": "stream",
     "text": [
      "a [1, 2, 3, [4.1, 5]]\n",
      "b [1, 2, 3, [4, 5]]\n"
     ]
    }
   ],
   "source": [
    "a[3][0] = 4.1\n",
    "print('a', a)\n",
    "print('b', b)"
   ]
  },
  {
   "cell_type": "markdown",
   "metadata": {},
   "source": [
    "## count, index, len 函数"
   ]
  },
  {
   "cell_type": "code",
   "execution_count": 30,
   "metadata": {},
   "outputs": [
    {
     "data": {
      "text/plain": [
       "2"
      ]
     },
     "execution_count": 30,
     "metadata": {},
     "output_type": "execute_result"
    }
   ],
   "source": [
    "# count, index, len 函数\n",
    "a = [3, 5, 7, 3, 8, 9]\n",
    "a.count(3)"
   ]
  },
  {
   "cell_type": "code",
   "execution_count": null,
   "metadata": {},
   "outputs": [],
   "source": [
    "# index\n",
    "a.index(3, 1) # 从索引1开始找3"
   ]
  },
  {
   "cell_type": "code",
   "execution_count": 50,
   "metadata": {},
   "outputs": [
    {
     "data": {
      "text/plain": [
       "[1, 2, 3, 4, 5, 6, 7, 8, 9]"
      ]
     },
     "execution_count": 50,
     "metadata": {},
     "output_type": "execute_result"
    }
   ],
   "source": [
    "a = list(range(1, 10))\n",
    "a"
   ]
  },
  {
   "cell_type": "code",
   "execution_count": 51,
   "metadata": {},
   "outputs": [
    {
     "data": {
      "text/plain": [
       "[1, 2, '*', 3, 4, 5, 6, 7, 8, 9]"
      ]
     },
     "execution_count": 51,
     "metadata": {},
     "output_type": "execute_result"
    }
   ],
   "source": [
    "a.insert(2, '*') # 在索引2 的位置插入'*'\n",
    "a"
   ]
  },
  {
   "cell_type": "code",
   "execution_count": 52,
   "metadata": {},
   "outputs": [
    {
     "data": {
      "text/plain": [
       "[1, 2, '*', 4, 5, 6, 7, 8, 9]"
      ]
     },
     "execution_count": 52,
     "metadata": {},
     "output_type": "execute_result"
    }
   ],
   "source": [
    "a.remove(3) # 去掉第一个3\n",
    "a"
   ]
  },
  {
   "cell_type": "code",
   "execution_count": 53,
   "metadata": {},
   "outputs": [
    {
     "data": {
      "text/plain": [
       "[1, 2, '*', 4, 5, 6, 7, 8, 9, 4]"
      ]
     },
     "execution_count": 53,
     "metadata": {},
     "output_type": "execute_result"
    }
   ],
   "source": [
    "a.append(4)\n",
    "a"
   ]
  },
  {
   "cell_type": "markdown",
   "metadata": {},
   "source": [
    "## 栈"
   ]
  },
  {
   "cell_type": "code",
   "execution_count": 54,
   "metadata": {},
   "outputs": [
    {
     "name": "stdout",
     "output_type": "stream",
     "text": [
      "[1, 2, '*', 4, 5, 6, 7, 8, 9]\n",
      "4\n"
     ]
    }
   ],
   "source": [
    "b = a.pop()\n",
    "print(a)\n",
    "print(b)\n",
    "'''\n",
    "pop 和 append 可以理解为构成栈(stack)\n",
    "'''"
   ]
  },
  {
   "cell_type": "code",
   "execution_count": 62,
   "metadata": {},
   "outputs": [
    {
     "name": "stdin",
     "output_type": "stream",
     "text": [
      "please input an expression: {]\n"
     ]
    },
    {
     "name": "stdout",
     "output_type": "stream",
     "text": [
      "not macth\n"
     ]
    }
   ],
   "source": [
    "'''\n",
    "栈可以用来检验括号是否匹配\n",
    "'''\n",
    "expression = input('please input an expression:')\n",
    "my_stack = list()\n",
    "left_quotes = ['{', '[', '(']\n",
    "right_quotes = ['}', ']', ')']\n",
    "\n",
    "a = list()\n",
    "match = True\n",
    "for ch in expression: # 把string作为一个sequence遍历\n",
    "    if ch in left_quotes:\n",
    "        my_stack.append(ch)\n",
    "    elif ch in right_quotes:\n",
    "        if my_stack == []:\n",
    "#             a.append('not match')\n",
    "#             print('not match')\n",
    "\n",
    "        else:\n",
    "            left_ch = my_stack.pop()\n",
    "            if (left_quotes.index(left_ch) != right_quotes.index(ch)):\n",
    "                a.append('not match')\n",
    "#                 print('not match')\n",
    "                break # 到此为止，栈底可能有元素(左括号)没有右括号与其匹配\n",
    "\n",
    "if my_stack != []:\n",
    "    a.append('not match')\n",
    "#     print('not macth')\n",
    "else:\n",
    "    a.append('not match')\n",
    "#     print('match')\n",
    "\n",
    "if 'not match' in a:\n",
    "    print('not macth')\n",
    "else:\n",
    "    print('match')"
   ]
  },
  {
   "cell_type": "code",
   "execution_count": null,
   "metadata": {},
   "outputs": [],
   "source": [
    "'''\n",
    "栈可以用来检验括号是否匹配\n",
    "'''\n",
    "expression = input('please input an expression:')\n",
    "my_stack = list()\n",
    "left_quotes = ['{', '[', '(']\n",
    "right_quotes = ['}', ']', ')']\n",
    "\n",
    "match = True\n",
    "for ch in expression: # 把string作为一个sequence遍历\n",
    "    if ch in left_quotes:\n",
    "        my_stack.append(ch)\n",
    "    elif ch in right_quotes:\n",
    "        if my_stack == []:\n",
    "            match = False\n",
    "\n",
    "\n",
    "        else:\n",
    "            left_ch = my_stack.pop()\n",
    "            if (left_quotes.index(left_ch) != right_quotes.index(ch)):\n",
    "                match = False\n",
    "#                 print('not match')\n",
    "                break # 到此为止，栈底可能有元素(左括号)没有右括号与其匹配\n",
    "\n",
    "if my_stack != []:\n",
    "    match = False\n",
    "#     print('not macth')\n",
    "if match == True: print('match')\n",
    "else: print('not match')"
   ]
  },
  {
   "cell_type": "markdown",
   "metadata": {},
   "source": [
    "## 拼接"
   ]
  },
  {
   "cell_type": "code",
   "execution_count": 64,
   "metadata": {},
   "outputs": [
    {
     "data": {
      "text/plain": [
       "[1, 2, 3, 4, 5, 6]"
      ]
     },
     "execution_count": 64,
     "metadata": {},
     "output_type": "execute_result"
    }
   ],
   "source": [
    "a = [1, 2, 3]\n",
    "b = [4, 5, 6]\n",
    "a + b # 并没有改变a和b"
   ]
  },
  {
   "cell_type": "code",
   "execution_count": 65,
   "metadata": {},
   "outputs": [
    {
     "data": {
      "text/plain": [
       "[1, 2, 3, 4, 5, 6]"
      ]
     },
     "execution_count": 65,
     "metadata": {},
     "output_type": "execute_result"
    }
   ],
   "source": [
    "a = a+b # 会产生新的对象[1, 2, 3, 4, 5, 6], 再把它赋值给a, 更占内存\n",
    "a"
   ]
  },
  {
   "cell_type": "code",
   "execution_count": 66,
   "metadata": {},
   "outputs": [
    {
     "data": {
      "text/plain": [
       "[1, 2, 3, 4, 5, 6, 4, 5, 6]"
      ]
     },
     "execution_count": 66,
     "metadata": {},
     "output_type": "execute_result"
    }
   ],
   "source": [
    "a += b # 不会产生新的对象[1, 2, 3, 4, 5, 6], 直接把a变成\n",
    "a"
   ]
  },
  {
   "cell_type": "code",
   "execution_count": 67,
   "metadata": {},
   "outputs": [
    {
     "data": {
      "text/plain": [
       "'hello world'"
      ]
     },
     "execution_count": 67,
     "metadata": {},
     "output_type": "execute_result"
    }
   ],
   "source": [
    "a = 'hello'\n",
    "b = ' world'\n",
    "a += b\n",
    "a"
   ]
  },
  {
   "cell_type": "code",
   "execution_count": 71,
   "metadata": {},
   "outputs": [
    {
     "data": {
      "text/plain": [
       "[1, 2, 3, 4, 5, 6]"
      ]
     },
     "execution_count": 71,
     "metadata": {},
     "output_type": "execute_result"
    }
   ],
   "source": [
    "a = [1, 2, 3]\n",
    "a.extend([4, 5, 6])\n",
    "a"
   ]
  },
  {
   "cell_type": "markdown",
   "metadata": {},
   "source": [
    "## 翻转reverse()"
   ]
  },
  {
   "cell_type": "code",
   "execution_count": 73,
   "metadata": {},
   "outputs": [
    {
     "name": "stdout",
     "output_type": "stream",
     "text": [
      "[0, 1, 2, 3, 4, 5]\n"
     ]
    },
    {
     "data": {
      "text/plain": [
       "[5, 4, 3, 2, 1, 0]"
      ]
     },
     "execution_count": 73,
     "metadata": {},
     "output_type": "execute_result"
    }
   ],
   "source": [
    "a = list(range(0,6))\n",
    "print(a)\n",
    "a.reverse() # reverse 的返回值是none,所以进行b = a.reverse()是无效的\n",
    "a"
   ]
  },
  {
   "cell_type": "code",
   "execution_count": null,
   "metadata": {},
   "outputs": [],
   "source": [
    "# 想要将 b 赋值为 a.reverse()\n",
    "a = list(range(0,6))\n",
    "b = a.copy()\n",
    "b.reverse()"
   ]
  },
  {
   "cell_type": "markdown",
   "metadata": {},
   "source": [
    "## random 生成随机列表"
   ]
  },
  {
   "cell_type": "code",
   "execution_count": 74,
   "metadata": {},
   "outputs": [
    {
     "name": "stdout",
     "output_type": "stream",
     "text": [
      "3 5 1 1 1 6 4 4 1 2 4 2 3 5 6 2 6 5 5 3 "
     ]
    }
   ],
   "source": [
    "import random\n",
    "for i in range(0, 20):\n",
    "    value = random.randint(1, 6)\n",
    "    print(value, end = ' ')"
   ]
  },
  {
   "cell_type": "code",
   "execution_count": 76,
   "metadata": {},
   "outputs": [
    {
     "name": "stdout",
     "output_type": "stream",
     "text": [
      "[5, 1, 4, 3, 5, 2, 1, 6, 3, 2, 1, 3, 1, 2, 1, 4, 2, 6, 5, 1]\n"
     ]
    }
   ],
   "source": [
    "import random\n",
    "a = list()\n",
    "for i in range(0, 20):\n",
    "    a.append(random.randint(1, 6))\n",
    "\n",
    "print(a)"
   ]
  },
  {
   "cell_type": "code",
   "execution_count": 78,
   "metadata": {},
   "outputs": [
    {
     "data": {
      "text/plain": [
       "[1, 1, 1, 1, 1, 1, 2, 2, 2, 2, 3, 3, 3, 4, 4, 5, 5, 5, 6, 6]"
      ]
     },
     "execution_count": 78,
     "metadata": {},
     "output_type": "execute_result"
    }
   ],
   "source": [
    "b = sorted(a)\n",
    "b"
   ]
  },
  {
   "cell_type": "code",
   "execution_count": 79,
   "metadata": {},
   "outputs": [
    {
     "name": "stdout",
     "output_type": "stream",
     "text": [
      "[5, 5, 6, 1, 6, 3, 3, 4, 1, 1, 4, 2, 4, 2, 2, 2, 3, 3, 5, 4]\n"
     ]
    }
   ],
   "source": [
    "# 提前占位置, 更有效率\n",
    "import random\n",
    "a = [None] * 20\n",
    "for i in range(0, 20):\n",
    "    a[i] = random.randint(1, 6)\n",
    "\n",
    "print(a)"
   ]
  },
  {
   "cell_type": "code",
   "execution_count": 81,
   "metadata": {},
   "outputs": [
    {
     "name": "stdout",
     "output_type": "stream",
     "text": [
      "948 µs ± 18.7 µs per loop (mean ± std. dev. of 7 runs, 1000 loops each)\n"
     ]
    }
   ],
   "source": [
    "%%timeit\n",
    "import random\n",
    "a = [None] * 10000\n",
    "for i in range(0,10000):\n",
    "    a[i] = i\n",
    "# jupyter的测速功能"
   ]
  },
  {
   "cell_type": "code",
   "execution_count": 82,
   "metadata": {},
   "outputs": [
    {
     "name": "stdout",
     "output_type": "stream",
     "text": [
      "1.53 ms ± 19 µs per loop (mean ± std. dev. of 7 runs, 1000 loops each)\n"
     ]
    }
   ],
   "source": [
    "%%timeit\n",
    "import random\n",
    "a = list()\n",
    "for i in range(0,10000):\n",
    "    a.append(i)\n",
    "# jupyter的测速功能"
   ]
  },
  {
   "cell_type": "markdown",
   "metadata": {},
   "source": [
    "得到结论：\n",
    "\n",
    "- 省空间：a = list()\n",
    "\n",
    "- 省时间：a = [None] * 10000"
   ]
  },
  {
   "cell_type": "code",
   "execution_count": 83,
   "metadata": {},
   "outputs": [
    {
     "name": "stdout",
     "output_type": "stream",
     "text": [
      "mean:  3.51\n",
      "max 6\n",
      "min 1\n"
     ]
    }
   ],
   "source": [
    "import random\n",
    "a = [None] * 100\n",
    "for i in range(0,100):\n",
    "    a[i] = random.randint(1, 6)\n",
    "    \n",
    "print('mean: ', sum(a)/len(a))\n",
    "print('max', max(a))\n",
    "print('min', min(a))"
   ]
  },
  {
   "cell_type": "code",
   "execution_count": null,
   "metadata": {},
   "outputs": [],
   "source": []
  },
  {
   "cell_type": "code",
   "execution_count": 84,
   "metadata": {},
   "outputs": [
    {
     "name": "stdin",
     "output_type": "stream",
     "text": [
      "please input the month: 2\n",
      "please input the day: 2\n"
     ]
    },
    {
     "name": "stdout",
     "output_type": "stream",
     "text": [
      "this is the 33 day in the year\n"
     ]
    }
   ],
   "source": [
    "\n",
    "month = int(input('please input the month:'))\n",
    "day = int(input('please input the day:'))\n",
    "\n",
    "days_in_month = [31, 28, 31, 30, 31, 30, 31, 31, 30, 31, 30, 31]\n",
    "\n",
    "count = day\n",
    "i = 1\n",
    "while i < month:\n",
    "    count += days_in_month[i-1]\n",
    "    i += 1\n",
    "\n",
    "# count += sum(days_in_month)\n",
    "\n",
    "print('this is the {} day in the year'.format(count))"
   ]
  },
  {
   "cell_type": "code",
   "execution_count": 9,
   "metadata": {},
   "outputs": [
    {
     "name": "stdin",
     "output_type": "stream",
     "text": [
      "please input the score: 1\n"
     ]
    },
    {
     "name": "stdout",
     "output_type": "stream",
     "text": [
      "grade: D\n"
     ]
    },
    {
     "name": "stdin",
     "output_type": "stream",
     "text": [
      "please input the score: -1\n"
     ]
    },
    {
     "name": "stdout",
     "output_type": "stream",
     "text": [
      "Invalid score\n"
     ]
    }
   ],
   "source": [
    "# i = 1\n",
    "while True:\n",
    "    score = int(input('please input the score:'))\n",
    "    if 100 >= score >= 90:\n",
    "        grade = 'A'\n",
    "    elif 90 > score >=75:\n",
    "        grade = 'B'\n",
    "    elif 75 > score >= 60:\n",
    "        grade = 'C'\n",
    "    elif 0<score < 60:\n",
    "        grade = 'D'\n",
    "    else:\n",
    "        print('Invalid score')\n",
    "        break\n",
    "#     i += 1\n",
    "    print('grade:', grade)"
   ]
  },
  {
   "cell_type": "code",
   "execution_count": 4,
   "metadata": {},
   "outputs": [
    {
     "name": "stdin",
     "output_type": "stream",
     "text": [
      "please input your score 3\n"
     ]
    },
    {
     "name": "stdout",
     "output_type": "stream",
     "text": [
      "D\n"
     ]
    }
   ],
   "source": [
    "# 表驱动\n",
    "grades = ['D']*60 +['C']*15 + ['B']* 15 + ['A']*11\n",
    "\n",
    "print(grades[(int(input('please input your score')))])"
   ]
  },
  {
   "cell_type": "code",
   "execution_count": 6,
   "metadata": {},
   "outputs": [
    {
     "name": "stdout",
     "output_type": "stream",
     "text": [
      "[10048, 10017, 9843, 9987, 9967, 10138]\n",
      "0.0295\n"
     ]
    }
   ],
   "source": [
    "import random\n",
    "count = [0]*6\n",
    "for i in range(0, 60000):\n",
    "    value = random.randint(1, 6)\n",
    "    count[value - 1] += 1\n",
    "\n",
    "print(count)\n",
    "print((max(count) - min(count))*6/sum(count))"
   ]
  },
  {
   "cell_type": "markdown",
   "metadata": {},
   "source": [
    "## 队列 pop append"
   ]
  },
  {
   "cell_type": "code",
   "execution_count": 10,
   "metadata": {},
   "outputs": [
    {
     "name": "stdout",
     "output_type": "stream",
     "text": [
      "2781 0.004635\n"
     ]
    }
   ],
   "source": [
    "# 队列\n",
    "import random\n",
    "count = 0\n",
    "number_of_tests = 600000\n",
    "last_three = [0, 0, 0]\n",
    "for i in range(0, number_of_tests):\n",
    "    last_three.append(random.randint(1, 6))\n",
    "    last_three.pop(0) # 从开头扔掉东西\n",
    "    if (last_three == [6, 6, 6]):\n",
    "        count += 1\n",
    "\n",
    "print(count, count/number_of_tests)"
   ]
  },
  {
   "cell_type": "code",
   "execution_count": null,
   "metadata": {},
   "outputs": [],
   "source": [
    "import random\n",
    "count = [0] *6\n",
    "number_of_tests = 600000\n",
    "last_three = [0, 0, 0]\n",
    "for i in range(0, number_of_tests):\n",
    "    last_three.append(random.randint(1, 6))\n",
    "    last_three.pop(0) # 从开头扔掉东西\n",
    "    if (last_three[0] == last_three[1] == last_three[2] ):\n",
    "        count[last_three[0]-1] += 1\n",
    "\n",
    "print(count, count/number_of_tests)"
   ]
  },
  {
   "cell_type": "markdown",
   "metadata": {},
   "source": [
    "# tuple 元组\n",
    "\n",
    "- list 的不可变更版本\n",
    "\n",
    "- 没有名字的结构\n",
    "\n",
    "- 表达只有一个元素要用 a = (4,)"
   ]
  },
  {
   "cell_type": "code",
   "execution_count": 15,
   "metadata": {},
   "outputs": [],
   "source": [
    "a = (1, 2, 3)"
   ]
  },
  {
   "cell_type": "code",
   "execution_count": 17,
   "metadata": {},
   "outputs": [
    {
     "data": {
      "text/plain": [
       "1"
      ]
     },
     "execution_count": 17,
     "metadata": {},
     "output_type": "execute_result"
    }
   ],
   "source": [
    "a[0]"
   ]
  },
  {
   "cell_type": "code",
   "execution_count": 19,
   "metadata": {},
   "outputs": [
    {
     "data": {
      "text/plain": [
       "42"
      ]
     },
     "execution_count": 19,
     "metadata": {},
     "output_type": "execute_result"
    }
   ],
   "source": [
    "a = (42)\n",
    "a"
   ]
  },
  {
   "cell_type": "code",
   "execution_count": 21,
   "metadata": {},
   "outputs": [
    {
     "data": {
      "text/plain": [
       "(42,)"
      ]
     },
     "execution_count": 21,
     "metadata": {},
     "output_type": "execute_result"
    }
   ],
   "source": [
    "a = (42,)\n",
    "a"
   ]
  }
 ],
 "metadata": {
  "kernelspec": {
   "display_name": "Python 3",
   "language": "python",
   "name": "python3"
  },
  "language_info": {
   "codemirror_mode": {
    "name": "ipython",
    "version": 3
   },
   "file_extension": ".py",
   "mimetype": "text/x-python",
   "name": "python",
   "nbconvert_exporter": "python",
   "pygments_lexer": "ipython3",
   "version": "3.6.3"
  }
 },
 "nbformat": 4,
 "nbformat_minor": 4
}
