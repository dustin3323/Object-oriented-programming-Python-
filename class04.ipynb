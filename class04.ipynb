{
 "cells": [
  {
   "cell_type": "code",
   "execution_count": 1,
   "metadata": {},
   "outputs": [
    {
     "data": {
      "text/plain": [
       "{'a': 0, 'b': 1}"
      ]
     },
     "execution_count": 1,
     "metadata": {},
     "output_type": "execute_result"
    }
   ],
   "source": [
    "d = dict()\n",
    "d['b'] = 1\n",
    "d.setdefault('a', 0) # 计数器\n",
    "d.setdefault('b', 0)\n",
    "d"
   ]
  },
  {
   "cell_type": "code",
   "execution_count": 2,
   "metadata": {},
   "outputs": [
    {
     "data": {
      "text/plain": [
       "{' ': 1, ',': 1, 'd': 1, 'e': 1, 'h': 1, 'l': 3, 'o': 2, 'r': 1, 'w': 1}"
      ]
     },
     "execution_count": 2,
     "metadata": {},
     "output_type": "execute_result"
    }
   ],
   "source": [
    "count = {}\n",
    "for char in 'hello, world':\n",
    "    if count.get(char) == None:\n",
    "        count[char] = 1\n",
    "    else:\n",
    "        count[char] = count[char] +1\n",
    "count"
   ]
  },
  {
   "cell_type": "code",
   "execution_count": 3,
   "metadata": {},
   "outputs": [
    {
     "data": {
      "text/plain": [
       "{' ': 1, ',': 1, 'd': 1, 'e': 1, 'h': 1, 'l': 3, 'o': 2, 'r': 1, 'w': 1}"
      ]
     },
     "execution_count": 3,
     "metadata": {},
     "output_type": "execute_result"
    }
   ],
   "source": [
    "count = {}\n",
    "for char in 'hello, world':\n",
    "    count.setdefault(char, 0)\n",
    "    count[char] += 1\n",
    "    \n",
    "count"
   ]
  },
  {
   "cell_type": "code",
   "execution_count": null,
   "metadata": {},
   "outputs": [],
   "source": [
    "text = '''\n",
    "Yet knowledge on its own is not a good predictor of task performance. Research \n",
    "from a long line of inquiry into transfer of knowledge has demonstrated that possessing relevant knowledge of mathematics or of the modelling task context is not\n",
    "sufficient for addressing the task (Nunes et al. 1985; Verschaffel et al. 2000). Equally\n",
    "important are whether the individual brings her knowledge to bear on the task and the\n",
    "decisions she makes about how to use that knowledge. Specifically, because modelling involves generating idealizations of the real world situation (Borromeo Ferri\n",
    "2006), any decision made by the modeller to simplify the problem filters, and is filtered by, the individual’s knowledge sources. As the study of Manouchehri and Lewis\n",
    "(2017) shows, differences between the intended solution and the students’ ideas are\n",
    "not limited to the peculiarities of school mathematics—they depend on students’\n",
    "encyclopaedic and episodic knowledge. In their Job Problem, the intended solution\n",
    "assumes that the only meaningful variable is number of weekly hours worked. The\n",
    "students raised issues based on their encyclopaedic and episodic knowledge; they\n",
    "wished to consider health care benefits and ease of transportation. Considering these\n",
    "important variables necessarily changes the mathematics used. For example, if transportation is the most important factor (rather than hours worked) an individual should\n",
    "choose the job she can get to reliably rather than the job she cannot get to at all.\n",
    "The interdependency of phases of modelling with individuals’ knowledge\n",
    "'''\n",
    "text.strip().split(' ')"
   ]
  },
  {
   "cell_type": "code",
   "execution_count": 25,
   "metadata": {},
   "outputs": [
    {
     "name": "stdout",
     "output_type": "stream",
     "text": [
      "{'yet': 1, 'knowledge': 8, 'on': 4, 'its': 1, 'own': 1, 'is': 5, 'not': 3, 'a': 2, 'good': 1, 'predictor': 1, 'of': 12, 'task': 4, 'performance': 1, 'research': 1, 'from': 1, 'long': 1, 'line': 1, 'inquiry': 1, 'into': 1, 'transfer': 1, 'has': 1, 'demonstrated': 1, 'that': 3, 'possessing': 1, 'relevant': 1, 'mathematics': 2, 'or': 1, 'the': 21, 'modelling': 3, 'context': 1, 'sufficient': 1, 'for': 2, 'addressing': 1, 'nunes': 1, 'et': 2, 'al': 2, '1985;': 1, 'verschaffel': 1, '2000': 1, 'equally': 1, 'important': 3, 'are': 2, 'whether': 1, 'individual': 2, 'brings': 1, 'her': 1, 'to': 7, 'bear': 1, 'and': 7, 'decisions': 1, 'she': 3, 'makes': 1, 'about': 1, 'how': 1, 'use': 1, 'specifically': 1, 'because': 1, 'involves': 1, 'generating': 1, 'idealizations': 1, 'real': 1, 'world': 1, 'situation': 1, 'borromeo': 1, 'ferri': 1, '2006': 1, 'any': 1, 'decision': 1, 'made': 1, 'by': 2, 'modeller': 1, 'simplify': 1, 'problem': 2, 'filters': 1, 'filtered': 1, 'individual’s': 1, 'sources': 1, 'as': 1, 'study': 1, 'manouchehri': 1, 'lewis': 1, '2017': 1, 'shows': 1, 'differences': 1, 'between': 1, 'intended': 2, 'solution': 2, 'students’': 2, 'ideas': 1, 'limited': 1, 'peculiarities': 1, 'school': 1, 'mathematics—they': 1, 'depend': 1, 'encyclopaedic': 2, 'episodic': 2, 'in': 1, 'their': 2, 'job': 3, 'assumes': 1, 'only': 1, 'meaningful': 1, 'variable': 1, 'number': 1, 'weekly': 1, 'hours': 2, 'worked': 2, 'students': 1, 'raised': 1, 'issues': 1, 'based': 1, 'knowledge;': 1, 'they': 1, 'wished': 1, 'consider': 1, 'health': 1, 'care': 1, 'benefits': 1, 'ease': 1, 'transportation': 2, 'considering': 1, 'these': 1, 'variables': 1, 'necessarily': 1, 'changes': 1, 'used': 1, 'example': 1, 'if': 1, 'most': 1, 'factor': 1, 'rather': 2, 'than': 2, 'an': 1, 'should': 1, 'choose': 1, 'can': 1, 'get': 2, 'reliably': 1, 'cannot': 1, 'at': 1, 'all': 1, 'interdependency': 1, 'phases': 1, 'with': 1, 'individuals’': 1}\n"
     ]
    }
   ],
   "source": [
    "s = '\\n\\t\\,\\\",.()-'\n",
    "for ch in s:\n",
    "    text = text.replace(ch, ' ')\n",
    "\n",
    "words = text.lower().split(' ')\n",
    "try:\n",
    "    while True: words.remove('')\n",
    "except:\n",
    "    pass # 什么都不做，直接过啦\n",
    "\n",
    "# 对每个单词计数\n",
    "count = {}\n",
    "for word in words:\n",
    "    word = word.strip() \n",
    "    count.setdefault(word, 0)\n",
    "    count[word] += 1\n",
    "print(count)"
   ]
  },
  {
   "cell_type": "code",
   "execution_count": 29,
   "metadata": {},
   "outputs": [
    {
     "name": "stdout",
     "output_type": "stream",
     "text": [
      "Count 1: yet its own good predictor performance research from long line inquiry into transfer has demonstrated possessing relevant or context sufficient addressing nunes 1985; verschaffel 2000 equally whether brings her bear decisions makes about how use specifically because involves generating idealizations real world situation borromeo ferri 2006 any decision made modeller simplify filters filtered individual’s sources as study manouchehri lewis 2017 shows differences between ideas limited peculiarities school mathematics—they depend in assumes only meaningful variable number weekly students raised issues based knowledge; they wished consider health care benefits ease considering these variables necessarily changes used example if most factor an should choose can reliably cannot at all interdependency phases with individuals’ \n",
      "\n",
      "Count 2: a mathematics for et al are individual by problem intended solution students’ encyclopaedic episodic their hours worked transportation rather than get \n",
      "\n",
      "Count 3: not that modelling important she job \n",
      "\n",
      "Count 4: on task \n",
      "\n",
      "Count 5: is \n",
      "\n",
      "Count 7: to and \n",
      "\n",
      "Count 8: knowledge \n",
      "\n",
      "Count 12: of \n",
      "\n",
      "Count 21: the \n",
      "\n"
     ]
    }
   ],
   "source": [
    "# 根据计数查单词\n",
    "words_by_count = dict()\n",
    "for word in count.keys():\n",
    "    words_by_count.setdefault(count[word],[])\n",
    "    words_by_count[count[word]].append(word)\n",
    "    \n",
    "# print(words_by_count)\n",
    "\n",
    "sorted(words_by_count.keys())\n",
    "for item in sorted(words_by_count.keys()):\n",
    "    print('Count {}:'.format(item), end = ' ')\n",
    "    for word in words_by_count[item]:\n",
    "        print(word, end = ' ')\n",
    "    print('\\n')"
   ]
  },
  {
   "cell_type": "markdown",
   "metadata": {},
   "source": [
    "# 画图"
   ]
  },
  {
   "cell_type": "code",
   "execution_count": 32,
   "metadata": {},
   "outputs": [],
   "source": [
    "new_count = []\n",
    "occurences = sorted(words_by_count.keys())\n",
    "for occurence in occurences:\n",
    "    new_count.append(len(words_by_count[occurence]))"
   ]
  },
  {
   "cell_type": "code",
   "execution_count": 36,
   "metadata": {},
   "outputs": [
    {
     "data": {
      "text/plain": [
       "[<matplotlib.lines.Line2D at 0x205aafc3908>]"
      ]
     },
     "execution_count": 36,
     "metadata": {},
     "output_type": "execute_result"
    },
    {
     "data": {
      "image/png": "[encoded data removed]",
      "text/plain": [
       "<Figure size 432x288 with 1 Axes>"
      ]
     },
     "metadata": {},
     "output_type": "display_data"
    }
   ],
   "source": [
    "import matplotlib.pyplot as plt\n",
    "%matplotlib inline\n",
    "plt.plot(occurences, new_count)\n"
   ]
  },
  {
   "cell_type": "code",
   "execution_count": 37,
   "metadata": {},
   "outputs": [
    {
     "name": "stdout",
     "output_type": "stream",
     "text": [
      "2 1\n"
     ]
    }
   ],
   "source": [
    "# 交换变量的值\n",
    "x, y = 1, 2\n",
    "x, y = y, x\n",
    "print(x, y)"
   ]
  },
  {
   "cell_type": "code",
   "execution_count": 38,
   "metadata": {},
   "outputs": [
    {
     "data": {
      "text/plain": [
       "(1, 2, 3)"
      ]
     },
     "execution_count": 38,
     "metadata": {},
     "output_type": "execute_result"
    }
   ],
   "source": [
    "r = 1, 2, 3\n",
    "r"
   ]
  },
  {
   "cell_type": "markdown",
   "metadata": {},
   "source": [
    "## sequence unpacking"
   ]
  },
  {
   "cell_type": "code",
   "execution_count": null,
   "metadata": {},
   "outputs": [],
   "source": [
    "x, y, z = (1, 2, 3) # python 默认逗号隔开的东西是元组"
   ]
  },
  {
   "cell_type": "code",
   "execution_count": 39,
   "metadata": {},
   "outputs": [
    {
     "ename": "ValueError",
     "evalue": "too many values to unpack (expected 3)",
     "output_type": "error",
     "traceback": [
      "\u001b[1;31m---------------------------------------------------------------------------\u001b[0m",
      "\u001b[1;31mValueError\u001b[0m                                Traceback (most recent call last)",
      "\u001b[1;32m<ipython-input-39-fb3bd3ed90bf>\u001b[0m in \u001b[0;36m<module>\u001b[1;34m()\u001b[0m\n\u001b[1;32m----> 1\u001b[1;33m \u001b[0mx\u001b[0m\u001b[1;33m,\u001b[0m \u001b[0my\u001b[0m\u001b[1;33m,\u001b[0m \u001b[0mz\u001b[0m \u001b[1;33m=\u001b[0m \u001b[1;36m1\u001b[0m\u001b[1;33m,\u001b[0m \u001b[1;36m2\u001b[0m\u001b[1;33m,\u001b[0m \u001b[1;36m3\u001b[0m\u001b[1;33m,\u001b[0m \u001b[1;36m4\u001b[0m\u001b[1;33m\u001b[0m\u001b[0m\n\u001b[0m",
      "\u001b[1;31mValueError\u001b[0m: too many values to unpack (expected 3)"
     ]
    }
   ],
   "source": [
    "x, y, z = 1, 2, 3, 4"
   ]
  },
  {
   "cell_type": "code",
   "execution_count": 41,
   "metadata": {},
   "outputs": [
    {
     "name": "stdout",
     "output_type": "stream",
     "text": [
      "1 2 [3, 4]\n"
     ]
    }
   ],
   "source": [
    "x, y, *r = 1, 2, 3, 4 # *:有多少接收多少\n",
    "print(x, y, r)"
   ]
  },
  {
   "cell_type": "code",
   "execution_count": 42,
   "metadata": {},
   "outputs": [
    {
     "name": "stdout",
     "output_type": "stream",
     "text": [
      "1 5 [2, 3, 4]\n"
     ]
    }
   ],
   "source": [
    "x, *r, y = 1, 2, 3, 4, 5\n",
    "print(x, y, r)"
   ]
  },
  {
   "cell_type": "code",
   "execution_count": 43,
   "metadata": {},
   "outputs": [
    {
     "name": "stdout",
     "output_type": "stream",
     "text": [
      "h ! ['e', 'l', 'l', 'o', ',', ' ', 'w', 'o', 'r', 'l', 'd']\n"
     ]
    }
   ],
   "source": [
    "x, *m, y = 'hello, world!'\n",
    "print(x, y, m)"
   ]
  },
  {
   "cell_type": "markdown",
   "metadata": {},
   "source": [
    "## 链式赋值 chained line"
   ]
  },
  {
   "cell_type": "code",
   "execution_count": 44,
   "metadata": {},
   "outputs": [
    {
     "name": "stdout",
     "output_type": "stream",
     "text": [
      "3 3\n"
     ]
    }
   ],
   "source": [
    "x = y = 3\n",
    "print(x, y)"
   ]
  },
  {
   "cell_type": "code",
   "execution_count": 45,
   "metadata": {},
   "outputs": [
    {
     "name": "stdout",
     "output_type": "stream",
     "text": [
      "[0, 2] [0, 2]\n"
     ]
    }
   ],
   "source": [
    "x = y = [1, 2]\n",
    "x[0] = 0\n",
    "print(x,y)"
   ]
  },
  {
   "cell_type": "code",
   "execution_count": 46,
   "metadata": {},
   "outputs": [
    {
     "data": {
      "text/plain": [
       "True"
      ]
     },
     "execution_count": 46,
     "metadata": {},
     "output_type": "execute_result"
    }
   ],
   "source": [
    "x is y"
   ]
  },
  {
   "cell_type": "code",
   "execution_count": 47,
   "metadata": {},
   "outputs": [
    {
     "data": {
      "text/plain": [
       "True"
      ]
     },
     "execution_count": 47,
     "metadata": {},
     "output_type": "execute_result"
    }
   ],
   "source": [
    "x == y"
   ]
  },
  {
   "cell_type": "code",
   "execution_count": 48,
   "metadata": {},
   "outputs": [
    {
     "data": {
      "text/plain": [
       "False"
      ]
     },
     "execution_count": 48,
     "metadata": {},
     "output_type": "execute_result"
    }
   ],
   "source": [
    "x = [1,3]\n",
    "y = [1,3]\n",
    "x is y"
   ]
  },
  {
   "cell_type": "code",
   "execution_count": 49,
   "metadata": {},
   "outputs": [
    {
     "data": {
      "text/plain": [
       "False"
      ]
     },
     "execution_count": 49,
     "metadata": {},
     "output_type": "execute_result"
    }
   ],
   "source": [
    "x = (1,2)\n",
    "y = (1,2)\n",
    "x is y"
   ]
  },
  {
   "cell_type": "code",
   "execution_count": 50,
   "metadata": {},
   "outputs": [
    {
     "data": {
      "text/plain": [
       "True"
      ]
     },
     "execution_count": 50,
     "metadata": {},
     "output_type": "execute_result"
    }
   ],
   "source": [
    "x = 'he'\n",
    "y = 'he'\n",
    "x is y"
   ]
  },
  {
   "cell_type": "code",
   "execution_count": null,
   "metadata": {},
   "outputs": [],
   "source": [
    "增量赋值"
   ]
  },
  {
   "cell_type": "code",
   "execution_count": 51,
   "metadata": {},
   "outputs": [
    {
     "data": {
      "text/plain": [
       "1"
      ]
     },
     "execution_count": 51,
     "metadata": {},
     "output_type": "execute_result"
    }
   ],
   "source": [
    "a = 0\n",
    "a +=1\n",
    "a"
   ]
  },
  {
   "cell_type": "code",
   "execution_count": null,
   "metadata": {},
   "outputs": [],
   "source": [
    "a = 0\n",
    "a=a+1 #a不再是过去的a了"
   ]
  },
  {
   "cell_type": "code",
   "execution_count": 52,
   "metadata": {},
   "outputs": [
    {
     "name": "stdout",
     "output_type": "stream",
     "text": [
      "True\n",
      "[1, 2, 3]\n",
      "False\n"
     ]
    }
   ],
   "source": [
    "a = [1,2]\n",
    "b=a\n",
    "print(a is b)\n",
    "a = a+[3]\n",
    "print(a)\n",
    "print(a is b)"
   ]
  },
  {
   "cell_type": "code",
   "execution_count": 53,
   "metadata": {},
   "outputs": [
    {
     "name": "stdout",
     "output_type": "stream",
     "text": [
      "True\n",
      "[1, 2, 3]\n",
      "True\n"
     ]
    }
   ],
   "source": [
    "a = [1,2]\n",
    "b=a\n",
    "print(a is b)\n",
    "a += [3]\n",
    "print(a)\n",
    "print(a is b)"
   ]
  },
  {
   "cell_type": "code",
   "execution_count": 54,
   "metadata": {},
   "outputs": [
    {
     "data": {
      "text/plain": [
       "[1, 2, 3]"
      ]
     },
     "execution_count": 54,
     "metadata": {},
     "output_type": "execute_result"
    }
   ],
   "source": [
    "b"
   ]
  },
  {
   "cell_type": "code",
   "execution_count": 56,
   "metadata": {},
   "outputs": [
    {
     "data": {
      "text/plain": [
       "1"
      ]
     },
     "execution_count": 56,
     "metadata": {},
     "output_type": "execute_result"
    }
   ],
   "source": [
    "# True and False\n",
    "int(True)"
   ]
  },
  {
   "cell_type": "code",
   "execution_count": 57,
   "metadata": {},
   "outputs": [
    {
     "data": {
      "text/plain": [
       "True"
      ]
     },
     "execution_count": 57,
     "metadata": {},
     "output_type": "execute_result"
    }
   ],
   "source": [
    "bool(3)"
   ]
  },
  {
   "cell_type": "code",
   "execution_count": 58,
   "metadata": {},
   "outputs": [
    {
     "data": {
      "text/plain": [
       "False"
      ]
     },
     "execution_count": 58,
     "metadata": {},
     "output_type": "execute_result"
    }
   ],
   "source": [
    "# 0, '', (), {}, [], None 都是 False\n",
    "bool(())"
   ]
  },
  {
   "cell_type": "code",
   "execution_count": 61,
   "metadata": {},
   "outputs": [
    {
     "name": "stdin",
     "output_type": "stream",
     "text": [
      "please input name: \n"
     ]
    },
    {
     "name": "stdout",
     "output_type": "stream",
     "text": [
      "err\n"
     ]
    }
   ],
   "source": [
    "name = input('please input name:')\n",
    "if name:\n",
    "    print(name+', hello')\n",
    "else:\n",
    "    print('err')"
   ]
  },
  {
   "cell_type": "code",
   "execution_count": 62,
   "metadata": {},
   "outputs": [
    {
     "data": {
      "text/plain": [
       "1"
      ]
     },
     "execution_count": 62,
     "metadata": {},
     "output_type": "execute_result"
    }
   ],
   "source": [
    "# 对标c中的问号表达式 a>=0?a:-a\n",
    "def abs(a):\n",
    "    return a if a>=0 else -a\n",
    "\n",
    "\n",
    "abs(-1)"
   ]
  },
  {
   "cell_type": "code",
   "execution_count": 63,
   "metadata": {},
   "outputs": [
    {
     "name": "stdin",
     "output_type": "stream",
     "text": [
      "please input name: \n"
     ]
    },
    {
     "name": "stdout",
     "output_type": "stream",
     "text": [
      "err\n"
     ]
    }
   ],
   "source": [
    "name = input('please input name:')\n",
    "\n",
    "print(name+', hello' if name else 'err')"
   ]
  },
  {
   "cell_type": "code",
   "execution_count": null,
   "metadata": {},
   "outputs": [],
   "source": [
    "year = int(input('year'))\n",
    "if year%400==0:\n",
    "    print('leap year')\n",
    "elif year%100==0:\n",
    "    print('not leap year')\n",
    "elif year%4 == 0:\n",
    "    print('leap year')\n",
    "else:\n",
    "    print('not')"
   ]
  },
  {
   "cell_type": "code",
   "execution_count": 65,
   "metadata": {},
   "outputs": [
    {
     "name": "stdin",
     "output_type": "stream",
     "text": [
      "year 10\n"
     ]
    },
    {
     "name": "stdout",
     "output_type": "stream",
     "text": [
      "not leap\n"
     ]
    }
   ],
   "source": [
    "def leap_year(year):\n",
    "    assert(year>=0)# 函数前验确认 precondition\n",
    "    if year%400==0:\n",
    "        return True\n",
    "    elif year%100==0:\n",
    "        return False\n",
    "    elif year%4 == 0:\n",
    "        return True\n",
    "    else:\n",
    "        return False\n",
    "\n",
    "year = int(input('year'))\n",
    "print('leap' if leap_year(year) else 'not leap')"
   ]
  },
  {
   "cell_type": "code",
   "execution_count": 67,
   "metadata": {},
   "outputs": [
    {
     "ename": "AssertionError",
     "evalue": "",
     "output_type": "error",
     "traceback": [
      "\u001b[1;31m---------------------------------------------------------------------------\u001b[0m",
      "\u001b[1;31mAssertionError\u001b[0m                            Traceback (most recent call last)",
      "\u001b[1;32m<ipython-input-67-bcfad7334978>\u001b[0m in \u001b[0;36m<module>\u001b[1;34m()\u001b[0m\n\u001b[1;32m----> 1\u001b[1;33m \u001b[1;32massert\u001b[0m\u001b[1;33m(\u001b[0m\u001b[1;36m3\u001b[0m\u001b[1;33m==\u001b[0m\u001b[1;36m4\u001b[0m\u001b[1;33m)\u001b[0m\u001b[1;33m\u001b[0m\u001b[0m\n\u001b[0m",
      "\u001b[1;31mAssertionError\u001b[0m: "
     ]
    }
   ],
   "source": [
    "# 函数前jian确认 precondition\n",
    "assert(3==4)"
   ]
  },
  {
   "cell_type": "code",
   "execution_count": 71,
   "metadata": {},
   "outputs": [],
   "source": [
    "def leap_year(year):\n",
    "    assert(year>=0)# 函数前验确认 precondition\n",
    "    return (year%400 ==0) or (year%4==0 and year%100)\n",
    "#     if (year%400 ==0) or (year%4==0 and year%100):\n",
    "#         return True\n",
    "#     else:\n",
    "#         return False\n",
    "    \n",
    "#     if year%400==0:\n",
    "#         return True\n",
    "#     elif year%100==0:\n",
    "#         return False\n",
    "#     elif year%4 == 0:\n",
    "#         return True\n",
    "#     else:\n",
    "#         return False\n",
    "\n",
    "assert(leap_year(2000))\n",
    "assert(leap_year(1980))\n",
    "assert(leap_year(1000)==False)\n",
    "assert(not leap_year(1987))"
   ]
  },
  {
   "cell_type": "code",
   "execution_count": 72,
   "metadata": {},
   "outputs": [
    {
     "data": {
      "text/plain": [
       "97"
      ]
     },
     "execution_count": 72,
     "metadata": {},
     "output_type": "execute_result"
    }
   ],
   "source": [
    "ord('a')"
   ]
  },
  {
   "cell_type": "code",
   "execution_count": 73,
   "metadata": {},
   "outputs": [
    {
     "data": {
      "text/plain": [
       "'a'"
      ]
     },
     "execution_count": 73,
     "metadata": {},
     "output_type": "execute_result"
    }
   ],
   "source": [
    "chr(97)"
   ]
  },
  {
   "cell_type": "code",
   "execution_count": 91,
   "metadata": {},
   "outputs": [
    {
     "data": {
      "text/plain": [
       "'🙊'"
      ]
     },
     "execution_count": 91,
     "metadata": {},
     "output_type": "execute_result"
    }
   ],
   "source": [
    "chr(128586)"
   ]
  },
  {
   "cell_type": "code",
   "execution_count": 93,
   "metadata": {},
   "outputs": [
    {
     "name": "stdout",
     "output_type": "stream",
     "text": [
      "\b                                                           *"
     ]
    }
   ],
   "source": [
    "import math\n",
    "x=1\n",
    "while x<60:\n",
    "    print('\\b *', end='')\n",
    "    # 以下拖时间\n",
    "    y=0\n",
    "    while y<50000:\n",
    "        z = math.sin(x)*math.exp(x)\n",
    "        y +=1\n",
    "    x+=1"
   ]
  },
  {
   "cell_type": "code",
   "execution_count": 94,
   "metadata": {},
   "outputs": [
    {
     "name": "stdout",
     "output_type": "stream",
     "text": [
      "\b                                                           *"
     ]
    }
   ],
   "source": [
    "import math\n",
    "def wait():\n",
    "    # 以下拖时间\n",
    "    y=0\n",
    "    while y<50000:\n",
    "        z = math.sin(x)*math.exp(x)\n",
    "        y +=1\n",
    "\n",
    "    \n",
    "x=1\n",
    "while x<60:\n",
    "    print('\\b *', end='')\n",
    "    x+=1 \n",
    "    wait()"
   ]
  },
  {
   "cell_type": "code",
   "execution_count": null,
   "metadata": {},
   "outputs": [],
   "source": [
    "def wait():\n",
    "    # 以下拖时间\n",
    "    y=0\n",
    "    while y<50000:\n",
    "        z = math.sin(x)*math.exp(x)\n",
    "        y +=1\n",
    "\n",
    "bar = ' '*80\n",
    "x=0\n",
    "y=79\n",
    "\n",
    "for i in range(0,80):\n",
    "    bar[x] = '*'\n",
    "    bar[y] = '#'\n",
    "    for ch in bar:\n",
    "        print(bar, end='')\n",
    "    wait()\n",
    "    bar[x] = ' '\n",
    "    bar[y] = ' '\n",
    "    x +=1\n",
    "    "
   ]
  }
 ],
 "metadata": {
  "kernelspec": {
   "display_name": "Python 3",
   "language": "python",
   "name": "python3"
  },
  "language_info": {
   "codemirror_mode": {
    "name": "ipython",
    "version": 3
   },
   "file_extension": ".py",
   "mimetype": "text/x-python",
   "name": "python",
   "nbconvert_exporter": "python",
   "pygments_lexer": "ipython3",
   "version": "3.6.3"
  }
 },
 "nbformat": 4,
 "nbformat_minor": 4
}
